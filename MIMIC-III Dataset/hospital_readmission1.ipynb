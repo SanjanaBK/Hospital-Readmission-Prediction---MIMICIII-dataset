{
 "cells": [
  {
   "cell_type": "code",
   "execution_count": 1,
   "metadata": {
    "collapsed": true
   },
   "outputs": [],
   "source": [
    "import pandas as pd\n",
    "import numpy as np\n",
    "import matplotlib.pyplot as plt\n",
    "\n",
    "df_adm = pd.read_csv('ADMISSIONS.csv')"
   ]
  },
  {
   "cell_type": "code",
   "execution_count": 2,
   "metadata": {},
   "outputs": [
    {
     "name": "stdout",
     "output_type": "stream",
     "text": [
      "Total number of records :  58976\n",
      "Total number of columns :  19\n"
     ]
    }
   ],
   "source": [
    "print(\"Total number of records : \",len(df_adm))\n",
    "print(\"Total number of columns : \",len(df_adm.columns))"
   ]
  },
  {
   "cell_type": "code",
   "execution_count": 3,
   "metadata": {},
   "outputs": [
    {
     "name": "stdout",
     "output_type": "stream",
     "text": [
      "Finding missing values ... \n"
     ]
    },
    {
     "data": {
      "text/plain": [
       "ROW_ID                      0\n",
       "SUBJECT_ID                  0\n",
       "HADM_ID                     0\n",
       "ADMITTIME                   0\n",
       "DISCHTIME                   0\n",
       "DEATHTIME               53122\n",
       "ADMISSION_TYPE              0\n",
       "ADMISSION_LOCATION          0\n",
       "DISCHARGE_LOCATION          0\n",
       "INSURANCE                   0\n",
       "LANGUAGE                25332\n",
       "RELIGION                  458\n",
       "MARITAL_STATUS          10128\n",
       "ETHNICITY                   0\n",
       "EDREGTIME               28099\n",
       "EDOUTTIME               28099\n",
       "DIAGNOSIS                  25\n",
       "HOSPITAL_EXPIRE_FLAG        0\n",
       "HAS_CHARTEVENTS_DATA        0\n",
       "dtype: int64"
      ]
     },
     "execution_count": 3,
     "metadata": {},
     "output_type": "execute_result"
    }
   ],
   "source": [
    "print(\"Finding missing values ... \")\n",
    "df_adm.isnull().sum()"
   ]
  },
  {
   "cell_type": "code",
   "execution_count": 4,
   "metadata": {},
   "outputs": [
    {
     "name": "stdout",
     "output_type": "stream",
     "text": [
      "Group Admission Types\n",
      "ADMISSION_TYPE\n",
      "ELECTIVE      7706\n",
      "EMERGENCY    42071\n",
      "NEWBORN       7863\n",
      "URGENT        1336\n",
      "dtype: int64\n",
      "ETHNICITY\n",
      "AMERICAN INDIAN/ALASKA NATIVE                                  51\n",
      "AMERICAN INDIAN/ALASKA NATIVE FEDERALLY RECOGNIZED TRIBE        3\n",
      "ASIAN                                                        1509\n",
      "ASIAN - ASIAN INDIAN                                           85\n",
      "ASIAN - CAMBODIAN                                              17\n",
      "ASIAN - CHINESE                                               277\n",
      "ASIAN - FILIPINO                                               25\n",
      "ASIAN - JAPANESE                                                7\n",
      "ASIAN - KOREAN                                                 13\n",
      "ASIAN - OTHER                                                  17\n",
      "ASIAN - THAI                                                    4\n",
      "ASIAN - VIETNAMESE                                             53\n",
      "BLACK/AFRICAN                                                  44\n",
      "BLACK/AFRICAN AMERICAN                                       5440\n",
      "BLACK/CAPE VERDEAN                                            200\n",
      "BLACK/HAITIAN                                                 101\n",
      "CARIBBEAN ISLAND                                                9\n",
      "HISPANIC OR LATINO                                           1696\n",
      "HISPANIC/LATINO - CENTRAL AMERICAN (OTHER)                     13\n",
      "HISPANIC/LATINO - COLOMBIAN                                     9\n",
      "HISPANIC/LATINO - CUBAN                                        24\n",
      "HISPANIC/LATINO - DOMINICAN                                    78\n",
      "HISPANIC/LATINO - GUATEMALAN                                   40\n",
      "HISPANIC/LATINO - HONDURAN                                      4\n",
      "HISPANIC/LATINO - MEXICAN                                      13\n",
      "HISPANIC/LATINO - PUERTO RICAN                                232\n",
      "HISPANIC/LATINO - SALVADORAN                                   19\n",
      "MIDDLE EASTERN                                                 43\n",
      "MULTI RACE ETHNICITY                                          130\n",
      "NATIVE HAWAIIAN OR OTHER PACIFIC ISLANDER                      18\n",
      "OTHER                                                        1512\n",
      "PATIENT DECLINED TO ANSWER                                    559\n",
      "PORTUGUESE                                                     61\n",
      "SOUTH AMERICAN                                                  8\n",
      "UNABLE TO OBTAIN                                              814\n",
      "UNKNOWN/NOT SPECIFIED                                        4523\n",
      "WHITE                                                       40996\n",
      "WHITE - BRAZILIAN                                              59\n",
      "WHITE - EASTERN EUROPEAN                                       25\n",
      "WHITE - OTHER EUROPEAN                                         81\n",
      "WHITE - RUSSIAN                                               164\n",
      "dtype: int64\n",
      "DIAGNOSIS\n",
      "        MITRAL STENOSIS\\MITRAL VALVE REPLACEMENT /SDA                                                                    1\n",
      "   DUODENAL MASS/SDA                                                                                                     1\n",
      " ? SEROTONIN SYNDROME                                                                                                    1\n",
      " ABDOMINAL AORTIC ANEURYSM/SDA                                                                                           1\n",
      " ABSENCE/SDA                                                                                                             1\n",
      " ADENOID CYSTIC CARCINOMA/SDA                                                                                            1\n",
      " ANALOMOUS PULMANARY VEIN\\ REPAIR ANALOMOUS ; PULMONARY VEIN/SDA                                                         1\n",
      " AORTIC ABDOMINAL ANEURYSM/SDA                                                                                           1\n",
      " AORTIC STENOSIS\\AORTIC VALVE REPLACEMENT/SDA                                                                            1\n",
      " CAD\\CORONARY ARTERY BYPASS GRAFT/SDA                                                                                    1\n",
      " CAS                                                                                                                     1\n",
      " CHARCOT DEFORMITY/DIABETIC MYELITIS/SDA                                                                                 1\n",
      " CHEST PAIN                                                                                                              1\n",
      " CORONARY ARTERY DISEASE & MITRAL REGURGITATION\\ CORONARY ARTERY BYPASS GRAFT W/MVR/SDA                                  1\n",
      " CORONARY ARTERY DISEASE\\ BENTAL PROCEDURE; ? CORONARY ARTERY BYPASS GRAFT/SDA                                           1\n",
      " CORONARY ARTERY DISEASE\\CORONARY ARTERY BYPASS GRAFT/SDA                                                                1\n",
      " CORONATY ARTERY DISEASE\\CORONARY ARTERY BYPASS GRAFT/SDA                                                                1\n",
      " HYPOXIA                                                                                                                 1\n",
      " INTRACTABLE EPILEPSY/SDA                                                                                                1\n",
      " LEFT FOOT GANGRENE/SDA                                                                                                  1\n",
      " MELANOMA LOWER BACK/SDA                                                                                                 1\n",
      " MITRAL REGURGITATION;CORONARY ARTERY DISEASE\\CORONARY ARTERY BYPASS GRAFT WITH MVR  ? MITRAL VALVE REPLACEMENT /SDA     1\n",
      " OPEN WOUND TO THE CHEST/SDA                                                                                             1\n",
      " PERFORATED DIVERTICULITIS STATUS/POST HARTMANN PROCEDURE/SDA                                                            1\n",
      " RESIDUAL ACOM ANEURYSM/SDA                                                                                              1\n",
      " STATUS/POST RIGHT COLON ESCHEMIA REQUIRING ILEOSTOMY/SDA                                                                1\n",
      " STEMI                                                                                                                   1\n",
      " THORACIC ANEURYSM\\REPLACEMENT OF ASCENDING AORTIC / HEMI ARCH UNDER DEEP HYPOTHERMIC CIRCULATORY ARREST /SDA            1\n",
      "(+)STRESS TEST;ANGINA                                                                                                    1\n",
      "(AML) ACUTE MYELOGENOUS LEUKEMIA                                                                                        13\n",
      "                                                                                                                        ..\n",
      "WET GANGRENE                                                                                                             1\n",
      "WIDE COMPLEX TACHYCARDIA                                                                                                 3\n",
      "WIDE COMPLEX TACYCARDIA                                                                                                  1\n",
      "WITHDRAWAL                                                                                                               9\n",
      "WITHDRAWL                                                                                                                2\n",
      "WOLFF PARKINSON WHITE SYNDROME                                                                                           1\n",
      "WOLLFE-PARKINSON-WHITE SYNDROME;SUPRAVENTRICULAR TACHYCARDIA\\EP STUDY WITH ABLATION                                      1\n",
      "WORSEING RENAL FAILURE                                                                                                   1\n",
      "WORSENING ANGINA;CORONARY ARTERY DISEASE\\LEFT HEART CATHETERIZATION                                                      1\n",
      "WORSENING DYSPNEA ON EXERTION;AORTIC STENOSIS\\RIGHT AND LEFT HEART CATHETERIZATION                                       1\n",
      "WORSENING LOWER BACK /LEG PAIN                                                                                           1\n",
      "WORSENING RENAL FAILURE;ACIDOSIS                                                                                         1\n",
      "WORSENING SHORTNESS OF BREAT;CONGESTIVE HEART FAILURE\\RIGHT AND LEFT HEART CATHETERIZATION                               1\n",
      "WORSENING SUBDURAL HEMATOMA                                                                                              1\n",
      "WOUND DEHISCENCE                                                                                                         5\n",
      "WOUND DEHISCENCE INFECTION                                                                                               1\n",
      "WOUND DRAINAGE                                                                                                           1\n",
      "WOUND HEMATOMA                                                                                                           1\n",
      "WOUND INFECTION                                                                                                         48\n",
      "WOUND INFECTION OF LEFT TIBIA/SDA                                                                                        1\n",
      "WOUND INFECTION R/O SEPSIS                                                                                               1\n",
      "WOUND INFECTION'OSTEOMYELITIS                                                                                            1\n",
      "WOUND INFECTION;HYPOTENSION                                                                                              1\n",
      "WOUND INFECTION;TELEMETRY                                                                                                1\n",
      "WOUND TO RLE                                                                                                             1\n",
      "WOUND ULCER                                                                                                              1\n",
      "ZENKER'S DIVERTICULUM/SDA                                                                                                2\n",
      "ZONE 2 NECK INJURY                                                                                                       1\n",
      "ZOSTER VS. MENINGITIS                                                                                                    1\n",
      "ZYGOMATIC FRACTURE LEFT                                                                                                  1\n",
      "Length: 15691, dtype: int64\n"
     ]
    }
   ],
   "source": [
    "print(\"Group Admission Types\")\n",
    "print(df_adm.groupby(['ADMISSION_TYPE']).size())\n",
    "print(df_adm.groupby(['ETHNICITY']).size())\n",
    "print(df_adm.groupby(['DIAGNOSIS']).size())"
   ]
  },
  {
   "cell_type": "code",
   "execution_count": 5,
   "metadata": {},
   "outputs": [
    {
     "name": "stdout",
     "output_type": "stream",
     "text": [
      "Converting Date string to Datetime object ...\n",
      "Number of missing date admissions: 0\n",
      "Number of missing date discharges: 0\n"
     ]
    }
   ],
   "source": [
    "print(\"Converting Date string to Datetime object ...\")\n",
    "df_adm.ADMITTIME = pd.to_datetime(df_adm.ADMITTIME, format = '%Y-%m-%d %H:%M:%S', errors = 'coerce')\n",
    "df_adm.DISCHTIME = pd.to_datetime(df_adm.DISCHTIME, format = '%Y-%m-%d %H:%M:%S', errors = 'coerce')\n",
    "\n",
    "print('Number of missing date admissions:', df_adm.ADMITTIME.isnull().sum())\n",
    "print('Number of missing date discharges:', df_adm.DISCHTIME.isnull().sum())"
   ]
  },
  {
   "cell_type": "code",
   "execution_count": 6,
   "metadata": {},
   "outputs": [
    {
     "name": "stdout",
     "output_type": "stream",
     "text": [
      "Sorting the dataset by SUBJECT_ID and ADMITTIME ...\n"
     ]
    }
   ],
   "source": [
    "print(\"Sorting the dataset by SUBJECT_ID and ADMITTIME ...\")\n",
    "df_adm = df_adm.sort_values(['SUBJECT_ID','ADMITTIME'])\n",
    "df_adm = df_adm.reset_index(drop = True)"
   ]
  },
  {
   "cell_type": "code",
   "execution_count": 7,
   "metadata": {},
   "outputs": [
    {
     "data": {
      "text/html": [
       "<div>\n",
       "<style>\n",
       "    .dataframe thead tr:only-child th {\n",
       "        text-align: right;\n",
       "    }\n",
       "\n",
       "    .dataframe thead th {\n",
       "        text-align: left;\n",
       "    }\n",
       "\n",
       "    .dataframe tbody tr th {\n",
       "        vertical-align: top;\n",
       "    }\n",
       "</style>\n",
       "<table border=\"1\" class=\"dataframe\">\n",
       "  <thead>\n",
       "    <tr style=\"text-align: right;\">\n",
       "      <th></th>\n",
       "      <th>SUBJECT_ID</th>\n",
       "      <th>ADMITTIME</th>\n",
       "      <th>ADMISSION_TYPE</th>\n",
       "    </tr>\n",
       "  </thead>\n",
       "  <tbody>\n",
       "    <tr>\n",
       "      <th>165</th>\n",
       "      <td>124</td>\n",
       "      <td>2160-06-24 21:25:00</td>\n",
       "      <td>EMERGENCY</td>\n",
       "    </tr>\n",
       "    <tr>\n",
       "      <th>166</th>\n",
       "      <td>124</td>\n",
       "      <td>2161-12-17 03:39:00</td>\n",
       "      <td>EMERGENCY</td>\n",
       "    </tr>\n",
       "    <tr>\n",
       "      <th>167</th>\n",
       "      <td>124</td>\n",
       "      <td>2165-05-21 21:02:00</td>\n",
       "      <td>ELECTIVE</td>\n",
       "    </tr>\n",
       "    <tr>\n",
       "      <th>168</th>\n",
       "      <td>124</td>\n",
       "      <td>2165-12-31 18:55:00</td>\n",
       "      <td>EMERGENCY</td>\n",
       "    </tr>\n",
       "  </tbody>\n",
       "</table>\n",
       "</div>"
      ],
      "text/plain": [
       "     SUBJECT_ID           ADMITTIME ADMISSION_TYPE\n",
       "165         124 2160-06-24 21:25:00      EMERGENCY\n",
       "166         124 2161-12-17 03:39:00      EMERGENCY\n",
       "167         124 2165-05-21 21:02:00       ELECTIVE\n",
       "168         124 2165-12-31 18:55:00      EMERGENCY"
      ]
     },
     "execution_count": 7,
     "metadata": {},
     "output_type": "execute_result"
    }
   ],
   "source": [
    "df_adm.loc[df_adm.SUBJECT_ID == 124,['SUBJECT_ID','ADMITTIME','ADMISSION_TYPE']]"
   ]
  },
  {
   "cell_type": "code",
   "execution_count": 8,
   "metadata": {},
   "outputs": [
    {
     "name": "stdout",
     "output_type": "stream",
     "text": [
      "Adding NEXT_ADMITTIME and NEXT_ADMISSION_TYPE for every record ...\n"
     ]
    }
   ],
   "source": [
    "print(\"Adding NEXT_ADMITTIME and NEXT_ADMISSION_TYPE for every record ...\")\n",
    "df_adm['NEXT_ADMITTIME'] = df_adm.groupby('SUBJECT_ID').ADMITTIME.shift(-1)\n",
    "df_adm['NEXT_ADMISSION_TYPE'] = df_adm.groupby('SUBJECT_ID').ADMISSION_TYPE.shift(-1)\n",
    "df_adm['LENGTH_OF_STAY'] = (df_adm.DISCHTIME - df_adm.ADMITTIME).dt.total_seconds()/(24*60*60)"
   ]
  },
  {
   "cell_type": "code",
   "execution_count": 9,
   "metadata": {},
   "outputs": [
    {
     "name": "stdout",
     "output_type": "stream",
     "text": [
      "     SUBJECT_ID           ADMITTIME           DISCHTIME ADMISSION_TYPE  \\\n",
      "165         124 2160-06-24 21:25:00 2160-07-15 15:10:00      EMERGENCY   \n",
      "166         124 2161-12-17 03:39:00 2161-12-24 15:35:00      EMERGENCY   \n",
      "167         124 2165-05-21 21:02:00 2165-06-06 16:00:00       ELECTIVE   \n",
      "168         124 2165-12-31 18:55:00 2166-02-01 06:55:00      EMERGENCY   \n",
      "\n",
      "     LENGTH_OF_STAY      NEXT_ADMITTIME NEXT_ADMISSION_TYPE  \n",
      "165       20.739583 2161-12-17 03:39:00           EMERGENCY  \n",
      "166        7.497222 2165-05-21 21:02:00            ELECTIVE  \n",
      "167       15.790278 2165-12-31 18:55:00           EMERGENCY  \n",
      "168       31.500000                 NaT                 NaN  \n",
      "      SUBJECT_ID           ADMITTIME           DISCHTIME ADMISSION_TYPE  \\\n",
      "6384        5246 2185-11-14 08:36:00 2185-12-21 18:15:00      EMERGENCY   \n",
      "6385        5246 2185-12-02 23:53:00 2185-12-21 18:15:00      EMERGENCY   \n",
      "\n",
      "      LENGTH_OF_STAY      NEXT_ADMITTIME NEXT_ADMISSION_TYPE  \n",
      "6384       37.402083 2185-12-02 23:53:00           EMERGENCY  \n",
      "6385       18.765278                 NaT                 NaN  \n"
     ]
    }
   ],
   "source": [
    "print(df_adm.loc[df_adm.SUBJECT_ID == 124,['SUBJECT_ID','ADMITTIME','DISCHTIME','ADMISSION_TYPE','LENGTH_OF_STAY','NEXT_ADMITTIME','NEXT_ADMISSION_TYPE']])\n",
    "print(df_adm.loc[df_adm.SUBJECT_ID == 5246,['SUBJECT_ID','ADMITTIME','DISCHTIME','ADMISSION_TYPE','LENGTH_OF_STAY','NEXT_ADMITTIME','NEXT_ADMISSION_TYPE']])"
   ]
  },
  {
   "cell_type": "code",
   "execution_count": 10,
   "metadata": {},
   "outputs": [
    {
     "name": "stdout",
     "output_type": "stream",
     "text": [
      "Elective readmission should not be considered ...\n"
     ]
    }
   ],
   "source": [
    "print(\"Elective readmission should not be considered ...\")\n",
    "rows = df_adm.NEXT_ADMISSION_TYPE == 'ELECTIVE'\n",
    "df_adm.loc[rows,['NEXT_ADMITTIME']] = pd.NaT\n",
    "df_adm.loc[rows,['NEXT_ADMISSION_TYPE']] = np.NaN"
   ]
  },
  {
   "cell_type": "code",
   "execution_count": 11,
   "metadata": {
    "scrolled": true
   },
   "outputs": [
    {
     "data": {
      "text/html": [
       "<div>\n",
       "<style>\n",
       "    .dataframe thead tr:only-child th {\n",
       "        text-align: right;\n",
       "    }\n",
       "\n",
       "    .dataframe thead th {\n",
       "        text-align: left;\n",
       "    }\n",
       "\n",
       "    .dataframe tbody tr th {\n",
       "        vertical-align: top;\n",
       "    }\n",
       "</style>\n",
       "<table border=\"1\" class=\"dataframe\">\n",
       "  <thead>\n",
       "    <tr style=\"text-align: right;\">\n",
       "      <th></th>\n",
       "      <th>SUBJECT_ID</th>\n",
       "      <th>ADMITTIME</th>\n",
       "      <th>ADMISSION_TYPE</th>\n",
       "      <th>NEXT_ADMITTIME</th>\n",
       "      <th>NEXT_ADMISSION_TYPE</th>\n",
       "    </tr>\n",
       "  </thead>\n",
       "  <tbody>\n",
       "    <tr>\n",
       "      <th>165</th>\n",
       "      <td>124</td>\n",
       "      <td>2160-06-24 21:25:00</td>\n",
       "      <td>EMERGENCY</td>\n",
       "      <td>2161-12-17 03:39:00</td>\n",
       "      <td>EMERGENCY</td>\n",
       "    </tr>\n",
       "    <tr>\n",
       "      <th>166</th>\n",
       "      <td>124</td>\n",
       "      <td>2161-12-17 03:39:00</td>\n",
       "      <td>EMERGENCY</td>\n",
       "      <td>NaT</td>\n",
       "      <td>NaN</td>\n",
       "    </tr>\n",
       "    <tr>\n",
       "      <th>167</th>\n",
       "      <td>124</td>\n",
       "      <td>2165-05-21 21:02:00</td>\n",
       "      <td>ELECTIVE</td>\n",
       "      <td>2165-12-31 18:55:00</td>\n",
       "      <td>EMERGENCY</td>\n",
       "    </tr>\n",
       "    <tr>\n",
       "      <th>168</th>\n",
       "      <td>124</td>\n",
       "      <td>2165-12-31 18:55:00</td>\n",
       "      <td>EMERGENCY</td>\n",
       "      <td>NaT</td>\n",
       "      <td>NaN</td>\n",
       "    </tr>\n",
       "  </tbody>\n",
       "</table>\n",
       "</div>"
      ],
      "text/plain": [
       "     SUBJECT_ID           ADMITTIME ADMISSION_TYPE      NEXT_ADMITTIME  \\\n",
       "165         124 2160-06-24 21:25:00      EMERGENCY 2161-12-17 03:39:00   \n",
       "166         124 2161-12-17 03:39:00      EMERGENCY                 NaT   \n",
       "167         124 2165-05-21 21:02:00       ELECTIVE 2165-12-31 18:55:00   \n",
       "168         124 2165-12-31 18:55:00      EMERGENCY                 NaT   \n",
       "\n",
       "    NEXT_ADMISSION_TYPE  \n",
       "165           EMERGENCY  \n",
       "166                 NaN  \n",
       "167           EMERGENCY  \n",
       "168                 NaN  "
      ]
     },
     "execution_count": 11,
     "metadata": {},
     "output_type": "execute_result"
    }
   ],
   "source": [
    "df_adm.loc[df_adm.SUBJECT_ID == 124,['SUBJECT_ID','ADMITTIME','ADMISSION_TYPE','NEXT_ADMITTIME','NEXT_ADMISSION_TYPE']]"
   ]
  },
  {
   "cell_type": "code",
   "execution_count": 12,
   "metadata": {},
   "outputs": [
    {
     "name": "stdout",
     "output_type": "stream",
     "text": [
      "Sorting the dataset by SUBJECT_ID and ADMITTIME ...\n",
      "Again fill the values ...\n"
     ]
    }
   ],
   "source": [
    "print(\"Sorting the dataset by SUBJECT_ID and ADMITTIME ...\")\n",
    "df_adm = df_adm.sort_values(['SUBJECT_ID','ADMITTIME'])\n",
    "\n",
    "print(\"Again fill the values ...\")\n",
    "df_adm[['NEXT_ADMITTIME','NEXT_ADMISSION_TYPE']] = df_adm.groupby(['SUBJECT_ID'])[['NEXT_ADMITTIME','NEXT_ADMISSION_TYPE']].fillna(method = 'bfill')"
   ]
  },
  {
   "cell_type": "code",
   "execution_count": 13,
   "metadata": {
    "scrolled": false
   },
   "outputs": [
    {
     "data": {
      "text/html": [
       "<div>\n",
       "<style>\n",
       "    .dataframe thead tr:only-child th {\n",
       "        text-align: right;\n",
       "    }\n",
       "\n",
       "    .dataframe thead th {\n",
       "        text-align: left;\n",
       "    }\n",
       "\n",
       "    .dataframe tbody tr th {\n",
       "        vertical-align: top;\n",
       "    }\n",
       "</style>\n",
       "<table border=\"1\" class=\"dataframe\">\n",
       "  <thead>\n",
       "    <tr style=\"text-align: right;\">\n",
       "      <th></th>\n",
       "      <th>SUBJECT_ID</th>\n",
       "      <th>ADMITTIME</th>\n",
       "      <th>DISCHTIME</th>\n",
       "      <th>ADMISSION_TYPE</th>\n",
       "      <th>NEXT_ADMITTIME</th>\n",
       "      <th>NEXT_ADMISSION_TYPE</th>\n",
       "    </tr>\n",
       "  </thead>\n",
       "  <tbody>\n",
       "    <tr>\n",
       "      <th>165</th>\n",
       "      <td>124</td>\n",
       "      <td>2160-06-24 21:25:00</td>\n",
       "      <td>2160-07-15 15:10:00</td>\n",
       "      <td>EMERGENCY</td>\n",
       "      <td>2161-12-17 03:39:00</td>\n",
       "      <td>EMERGENCY</td>\n",
       "    </tr>\n",
       "    <tr>\n",
       "      <th>166</th>\n",
       "      <td>124</td>\n",
       "      <td>2161-12-17 03:39:00</td>\n",
       "      <td>2161-12-24 15:35:00</td>\n",
       "      <td>EMERGENCY</td>\n",
       "      <td>2165-12-31 18:55:00</td>\n",
       "      <td>EMERGENCY</td>\n",
       "    </tr>\n",
       "    <tr>\n",
       "      <th>167</th>\n",
       "      <td>124</td>\n",
       "      <td>2165-05-21 21:02:00</td>\n",
       "      <td>2165-06-06 16:00:00</td>\n",
       "      <td>ELECTIVE</td>\n",
       "      <td>2165-12-31 18:55:00</td>\n",
       "      <td>EMERGENCY</td>\n",
       "    </tr>\n",
       "    <tr>\n",
       "      <th>168</th>\n",
       "      <td>124</td>\n",
       "      <td>2165-12-31 18:55:00</td>\n",
       "      <td>2166-02-01 06:55:00</td>\n",
       "      <td>EMERGENCY</td>\n",
       "      <td>NaT</td>\n",
       "      <td>NaN</td>\n",
       "    </tr>\n",
       "  </tbody>\n",
       "</table>\n",
       "</div>"
      ],
      "text/plain": [
       "     SUBJECT_ID           ADMITTIME           DISCHTIME ADMISSION_TYPE  \\\n",
       "165         124 2160-06-24 21:25:00 2160-07-15 15:10:00      EMERGENCY   \n",
       "166         124 2161-12-17 03:39:00 2161-12-24 15:35:00      EMERGENCY   \n",
       "167         124 2165-05-21 21:02:00 2165-06-06 16:00:00       ELECTIVE   \n",
       "168         124 2165-12-31 18:55:00 2166-02-01 06:55:00      EMERGENCY   \n",
       "\n",
       "         NEXT_ADMITTIME NEXT_ADMISSION_TYPE  \n",
       "165 2161-12-17 03:39:00           EMERGENCY  \n",
       "166 2165-12-31 18:55:00           EMERGENCY  \n",
       "167 2165-12-31 18:55:00           EMERGENCY  \n",
       "168                 NaT                 NaN  "
      ]
     },
     "execution_count": 13,
     "metadata": {},
     "output_type": "execute_result"
    }
   ],
   "source": [
    "df_adm.loc[df_adm.SUBJECT_ID == 124,['SUBJECT_ID','ADMITTIME','DISCHTIME','ADMISSION_TYPE','NEXT_ADMITTIME','NEXT_ADMISSION_TYPE']]"
   ]
  },
  {
   "cell_type": "code",
   "execution_count": 14,
   "metadata": {},
   "outputs": [
    {
     "name": "stdout",
     "output_type": "stream",
     "text": [
      "Calculating days between discharge and readmission ...\n"
     ]
    }
   ],
   "source": [
    "print(\"Calculating days between discharge and readmission ...\")\n",
    "df_adm['DAYS_NEXT_ADMIT'] = (df_adm.NEXT_ADMITTIME - df_adm.DISCHTIME).dt.total_seconds()/(24*60*60)"
   ]
  },
  {
   "cell_type": "code",
   "execution_count": 15,
   "metadata": {},
   "outputs": [
    {
     "data": {
      "image/png": "[encoded data removed]",
      "text/plain": [
       "<matplotlib.figure.Figure at 0x7f1b314c9908>"
      ]
     },
     "metadata": {},
     "output_type": "display_data"
    },
    {
     "data": {
      "image/png": "[encoded data removed]",
      "text/plain": [
       "<matplotlib.figure.Figure at 0x7f1b46a2a710>"
      ]
     },
     "metadata": {},
     "output_type": "display_data"
    }
   ],
   "source": [
    "re_add_time = df_adm.loc[~df_adm.DAYS_NEXT_ADMIT.isnull(),'DAYS_NEXT_ADMIT']\n",
    "re_add_time = [x for x in re_add_time if x > 0] or None\n",
    "plt.hist(list(re_add_time), bins = range(0,365+30,50), color = \"orange\")\n",
    "plt.xlabel(\"Number of Days\")\n",
    "plt.ylabel(\"Frequency\")\n",
    "plt.title(\"Readmission gaps\")\n",
    "plt.show()\n",
    "plt.hist(list(re_add_time), bins = 30, range = (0,30))\n",
    "plt.xlabel(\"Number of Days\")\n",
    "plt.ylabel(\"Frequency\")\n",
    "plt.title(\"Readmission within 30 Days\")\n",
    "plt.show()"
   ]
  },
  {
   "cell_type": "code",
   "execution_count": 16,
   "metadata": {},
   "outputs": [
    {
     "name": "stdout",
     "output_type": "stream",
     "text": [
      "Number of patients with readmissions: 11399\n",
      "Total number: 58976\n"
     ]
    }
   ],
   "source": [
    "print(\"Number of patients with readmissions:\", (~df_adm.DAYS_NEXT_ADMIT.isnull()).sum())\n",
    "print(\"Total number:\",len(df_adm))"
   ]
  },
  {
   "cell_type": "code",
   "execution_count": 17,
   "metadata": {
    "collapsed": true
   },
   "outputs": [],
   "source": [
    "df_notes = pd.read_csv(\"only_discharge_summaries.csv\")"
   ]
  },
  {
   "cell_type": "code",
   "execution_count": 18,
   "metadata": {},
   "outputs": [
    {
     "name": "stdout",
     "output_type": "stream",
     "text": [
      "Total number of notes :  59652\n",
      "Total number of columns :  11\n"
     ]
    },
    {
     "data": {
      "text/plain": [
       "Index(['ROW_ID', 'SUBJECT_ID', 'HADM_ID', 'CHARTDATE', 'CHARTTIME',\n",
       "       'STORETIME', 'CATEGORY', 'DESCRIPTION', 'CGID', 'ISERROR', 'TEXT'],\n",
       "      dtype='object')"
      ]
     },
     "execution_count": 18,
     "metadata": {},
     "output_type": "execute_result"
    }
   ],
   "source": [
    "print(\"Total number of notes : \",len(df_notes))\n",
    "print(\"Total number of columns : \",len(df_notes.columns))\n",
    "df_notes.columns"
   ]
  },
  {
   "cell_type": "code",
   "execution_count": 19,
   "metadata": {},
   "outputs": [
    {
     "data": {
      "text/plain": [
       "CATEGORY\n",
       "Discharge summary    59652\n",
       "dtype: int64"
      ]
     },
     "execution_count": 19,
     "metadata": {},
     "output_type": "execute_result"
    }
   ],
   "source": [
    "df_notes.groupby(['CATEGORY']).size()"
   ]
  },
  {
   "cell_type": "code",
   "execution_count": 20,
   "metadata": {},
   "outputs": [
    {
     "data": {
      "text/plain": [
       "'Admission Date:  [**2151-7-16**]       Discharge Date:  [**2151-8-4**]\\n\\n\\nService:\\nADDENDUM:\\n\\nRADIOLOGIC STUDIES:  Radiologic studies also included a chest\\nCT, which confirmed cavitary lesions in the left lung apex\\nconsistent with infectious process/tuberculosis.  This also\\nmoderate-sized left pleural effusion.\\n\\nHEAD CT:  Head CT showed no intracranial hemorrhage or mass\\neffect, but old infarction consistent with past medical\\nhistory.\\n\\nABDOMINAL CT:  Abdominal CT showed lesions of\\nT10 and sacrum most likely secondary to osteoporosis. These can\\nbe followed by repeat imaging as an outpatient.\\n\\n\\n\\n                            [**First Name8 (NamePattern2) **] [**First Name4 (NamePattern1) 1775**] [**Last Name (NamePattern1) **], M.D.  [**MD Number(1) 1776**]\\n\\nDictated By:[**Hospital 1807**]\\nMEDQUIST36\\n\\nD:  [**2151-8-5**]  12:11\\nT:  [**2151-8-5**]  12:21\\nJOB#:  [**Job Number 1808**]\\n'"
      ]
     },
     "execution_count": 20,
     "metadata": {},
     "output_type": "execute_result"
    }
   ],
   "source": [
    "df_notes.TEXT.iloc[0]"
   ]
  },
  {
   "cell_type": "code",
   "execution_count": 21,
   "metadata": {
    "collapsed": true,
    "scrolled": false
   },
   "outputs": [],
   "source": [
    "df_notes_dis_sum = df_notes\n",
    "# assert df_notes_dis_sum.duplicated(['HADM_ID']).sum() == 0, 'Multiple discharge notes per admission'"
   ]
  },
  {
   "cell_type": "code",
   "execution_count": 22,
   "metadata": {
    "collapsed": true
   },
   "outputs": [],
   "source": [
    "df_notes_dis_sum_last = (df_notes_dis_sum.groupby(['SUBJECT_ID','HADM_ID']).nth(-1)).reset_index()\n",
    "assert df_notes_dis_sum_last.duplicated(['HADM_ID']).sum() == 0, 'Multiple discharge notes per admission'"
   ]
  },
  {
   "cell_type": "code",
   "execution_count": 23,
   "metadata": {
    "collapsed": true
   },
   "outputs": [],
   "source": [
    "df_adm_notes = pd.merge(df_adm[['SUBJECT_ID','HADM_ID','ADMITTIME','DISCHTIME','DAYS_NEXT_ADMIT','LENGTH_OF_STAY','NEXT_ADMITTIME','ADMISSION_TYPE','DEATHTIME']],\n",
    "                        df_notes_dis_sum_last[['SUBJECT_ID','HADM_ID','TEXT']], \n",
    "                        on = ['SUBJECT_ID','HADM_ID'],\n",
    "                        how = 'left')\n",
    "assert len(df_adm) == len(df_adm_notes), 'Number of rows increased'"
   ]
  },
  {
   "cell_type": "code",
   "execution_count": 24,
   "metadata": {},
   "outputs": [
    {
     "data": {
      "text/plain": [
       "ADMISSION_TYPE\n",
       "ELECTIVE     0.048663\n",
       "EMERGENCY    0.037983\n",
       "NEWBORN      0.536691\n",
       "URGENT       0.042665\n",
       "dtype: float64"
      ]
     },
     "execution_count": 24,
     "metadata": {},
     "output_type": "execute_result"
    }
   ],
   "source": [
    "df_adm_notes.groupby('ADMISSION_TYPE').apply(lambda g: g.TEXT.isnull().sum())/df_adm_notes.groupby('ADMISSION_TYPE').size()"
   ]
  },
  {
   "cell_type": "code",
   "execution_count": 25,
   "metadata": {
    "collapsed": true
   },
   "outputs": [],
   "source": [
    "df_adm_notes_clean = df_adm_notes.loc[df_adm_notes.ADMISSION_TYPE != 'NEWBORN'].copy()"
   ]
  },
  {
   "cell_type": "code",
   "execution_count": 26,
   "metadata": {
    "collapsed": true
   },
   "outputs": [],
   "source": [
    "df_adm_notes_clean['OUTPUT_LABEL'] = (df_adm_notes_clean.DAYS_NEXT_ADMIT < 30).astype('int')"
   ]
  },
  {
   "cell_type": "code",
   "execution_count": 27,
   "metadata": {},
   "outputs": [
    {
     "name": "stdout",
     "output_type": "stream",
     "text": [
      "Number of positive samples: 3004\n",
      "Number of negative samples: 48109\n",
      "Total samples: 51113\n"
     ]
    }
   ],
   "source": [
    "print('Number of positive samples:', (df_adm_notes_clean.OUTPUT_LABEL == 1).sum())\n",
    "print('Number of negative samples:',  (df_adm_notes_clean.OUTPUT_LABEL == 0).sum())\n",
    "print('Total samples:', len(df_adm_notes_clean))"
   ]
  },
  {
   "cell_type": "code",
   "execution_count": 28,
   "metadata": {},
   "outputs": [
    {
     "name": "stdout",
     "output_type": "stream",
     "text": [
      "Correlation Analysis of Length of stay versus Readmission variable ...\n",
      "0.05849616301862751\n"
     ]
    }
   ],
   "source": [
    "import math\n",
    "print(\"Correlation Analysis of Length of stay versus Readmission variable ...\")\n",
    "length_of_stay = df_adm_notes_clean['LENGTH_OF_STAY']\n",
    "readmission = df_adm_notes_clean['OUTPUT_LABEL']\n",
    "correlation = ((length_of_stay*readmission).sum()-((length_of_stay.sum()*readmission.sum())/(len(length_of_stay))))/math.sqrt(((length_of_stay*length_of_stay).sum()-((length_of_stay).sum()**2/(len(length_of_stay))))*((readmission*readmission).sum()-((readmission).sum()**2/(len(readmission)))))\n",
    "print(correlation)"
   ]
  },
  {
   "cell_type": "code",
   "execution_count": 29,
   "metadata": {},
   "outputs": [
    {
     "name": "stdout",
     "output_type": "stream",
     "text": [
      "Test prevalence(n = 7667): 0.061953828094430674\n",
      "Valid prevalence(n = 7667): 0.056997521846876224\n",
      "Train all prevalence(n = 35779): 0.05847005226529529\n",
      "Total number of samples (n = 51113)\n"
     ]
    }
   ],
   "source": [
    "# shuffle the samples\n",
    "df_adm_notes_clean = df_adm_notes_clean.sample(n = len(df_adm_notes_clean), random_state = 42)\n",
    "df_adm_notes_clean = df_adm_notes_clean.reset_index(drop = True)\n",
    "\n",
    "# Save 30% of the data as validation and test data \n",
    "df_valid_test=df_adm_notes_clean.sample(frac=0.30,random_state=42)\n",
    "\n",
    "df_test = df_valid_test.sample(frac = 0.5, random_state = 42)\n",
    "df_valid = df_valid_test.drop(df_test.index)\n",
    "\n",
    "# use the rest of the data as training data\n",
    "df_train_all=df_adm_notes_clean.drop(df_valid_test.index)\n",
    "\n",
    "print('Test prevalence(n = %d):'%len(df_test),df_test.OUTPUT_LABEL.sum()/ len(df_test))\n",
    "print('Valid prevalence(n = %d):'%len(df_valid),df_valid.OUTPUT_LABEL.sum()/ len(df_valid))\n",
    "print('Train all prevalence(n = %d):'%len(df_train_all), df_train_all.OUTPUT_LABEL.sum()/ len(df_train_all))\n",
    "print('Total number of samples (n = %d)'%len(df_adm_notes_clean))\n",
    "assert len(df_adm_notes_clean) == (len(df_test)+len(df_valid)+len(df_train_all)),'math didnt work'"
   ]
  },
  {
   "cell_type": "code",
   "execution_count": 30,
   "metadata": {},
   "outputs": [
    {
     "name": "stdout",
     "output_type": "stream",
     "text": [
      "Train prevalence (n = 4184): 0.5\n"
     ]
    }
   ],
   "source": [
    "# split the training data into positive and negative\n",
    "rows_pos = df_train_all.OUTPUT_LABEL == 1\n",
    "df_train_pos = df_train_all.loc[rows_pos]\n",
    "df_train_neg = df_train_all.loc[~rows_pos]\n",
    "\n",
    "# merge the balanced data\n",
    "df_train = pd.concat([df_train_pos, df_train_neg.sample(n = len(df_train_pos), random_state = 42)],axis = 0)\n",
    "\n",
    "# shuffle the order of training samples \n",
    "df_train = df_train.sample(n = len(df_train), random_state = 42).reset_index(drop = True)\n",
    "\n",
    "print('Train prevalence (n = %d):'%len(df_train), df_train.OUTPUT_LABEL.sum()/ len(df_train))"
   ]
  },
  {
   "cell_type": "code",
   "execution_count": 31,
   "metadata": {
    "collapsed": true
   },
   "outputs": [],
   "source": [
    "def preprocess_text(df):\n",
    "    df.TEXT = df.TEXT.fillna(' ')\n",
    "    df.TEXT = df.TEXT.str.replace('\\n',' ')\n",
    "    df.TEXT = df.TEXT.str.replace('\\r',' ')\n",
    "    return df"
   ]
  },
  {
   "cell_type": "code",
   "execution_count": 32,
   "metadata": {
    "collapsed": true
   },
   "outputs": [],
   "source": [
    "import nltk\n",
    "from nltk import word_tokenize\n",
    "import string\n",
    "from nltk.stem.snowball import EnglishStemmer"
   ]
  },
  {
   "cell_type": "code",
   "execution_count": 33,
   "metadata": {
    "collapsed": true
   },
   "outputs": [],
   "source": [
    "def tokenizer_better(text):\n",
    "    # tokenize the text by replacing punctuation and numbers with spaces and lowercase all words\n",
    "    \n",
    "    punc_list = string.punctuation+'0123456789'\n",
    "    t = str.maketrans(dict.fromkeys(punc_list, \" \"))\n",
    "    text = text.lower().translate(t)\n",
    "    tokens = word_tokenize(text)\n",
    "#     tokens = [EnglishStemmer().stem(token) for token in tokens]\n",
    "    return tokens"
   ]
  },
  {
   "cell_type": "code",
   "execution_count": 34,
   "metadata": {},
   "outputs": [
    {
     "name": "stdout",
     "output_type": "stream",
     "text": [
      "Preprocessing unstructured text ...\n",
      "Applying Tokenization, Punctuation Removal, Case Folding ...\n"
     ]
    }
   ],
   "source": [
    "import string\n",
    "print(\"Preprocessing unstructured text ...\")\n",
    "df_train = preprocess_text(df_train)\n",
    "df_valid = preprocess_text(df_valid)\n",
    "df_test = preprocess_text(df_test)\n",
    "print(\"Applying Tokenization, Punctuation Removal, Case Folding ...\")\n",
    "df_train.TEXT = [tokenizer_better(i) for i in df_train.TEXT]\n",
    "# df_valid.TEXT = [tokenizer_better(i) for i in df_valid.TEXT]\n",
    "# df_test.TEXT = [tokenizer_better(i) for i in df_test.TEXT]"
   ]
  },
  {
   "cell_type": "code",
   "execution_count": 35,
   "metadata": {},
   "outputs": [
    {
     "name": "stdout",
     "output_type": "stream",
     "text": [
      "Extracting Stopwords ...\n",
      "Stopwords :  ['the', 'and', 'to', 'of', 'was', 'with', 'a', 'on', 'mg', 'in', 'for', 'tablet', 'no', 'name', 'is', 'po', 'patient', 's', 'he', 'blood', 'at', 'daily', 'sig', 'as', 'or', 'she', 'hospital', 'discharge', 'one', 'day', 'his', 'last', 'left', 'history', 'her', 'am', 'were', 'you', 'right', 'not', 'by', 'pt', 'pm', 'had', 'be', 'your', 'this', 'pain', 'admission', 'date', 'q', 'from', 'that', 'p', 'an', 'there', 'first', 'c', 'normal', 'ct', 'are', 'have', 'h', 'has', 'but', 'o', 'namepattern', 'medications', 'which', 'times', 'up', 'hours', 'chest', 'd', 'x', 'please', 'needed', 'every', 'given', 'capsule', 'also', 'home', 'status', 'well', 'dr', 'time', 'ml', 'course', 'after', 'stable', 'follow', 'stitle', 'started', 'refills', 'hct', 'seen', 'l', 'release', 'days', 'un', 'i', 'me', 'my', 'myself', 'we', 'our', 'ours', 'ourselves', 'you', \"you're\", \"you've\", \"you'll\", \"you'd\", 'your', 'yours', 'yourself', 'yourselves', 'he', 'him', 'his', 'himself', 'she', \"she's\", 'her', 'hers', 'herself', 'it', \"it's\", 'its', 'itself', 'they', 'them', 'their', 'theirs', 'themselves', 'what', 'which', 'who', 'whom', 'this', 'that', \"that'll\", 'these', 'those', 'am', 'is', 'are', 'was', 'were', 'be', 'been', 'being', 'have', 'has', 'had', 'having', 'do', 'does', 'did', 'doing', 'a', 'an', 'the', 'and', 'but', 'if', 'or', 'because', 'as', 'until', 'while', 'of', 'at', 'by', 'for', 'with', 'about', 'against', 'between', 'into', 'through', 'during', 'before', 'after', 'above', 'below', 'to', 'from', 'up', 'down', 'in', 'out', 'on', 'off', 'over', 'under', 'again', 'further', 'then', 'once', 'here', 'there', 'when', 'where', 'why', 'how', 'all', 'any', 'both', 'each', 'few', 'more', 'most', 'other', 'some', 'such', 'no', 'nor', 'not', 'only', 'own', 'same', 'so', 'than', 'too', 'very', 's', 't', 'can', 'will', 'just', 'don', \"don't\", 'should', \"should've\", 'now', 'd', 'll', 'm', 'o', 're', 've', 'y', 'ain', 'aren', \"aren't\", 'couldn', \"couldn't\", 'didn', \"didn't\", 'doesn', \"doesn't\", 'hadn', \"hadn't\", 'hasn', \"hasn't\", 'haven', \"haven't\", 'isn', \"isn't\", 'ma', 'mightn', \"mightn't\", 'mustn', \"mustn't\", 'needn', \"needn't\", 'shan', \"shan't\", 'shouldn', \"shouldn't\", 'wasn', \"wasn't\", 'weren', \"weren't\", 'won', \"won't\", 'wouldn', \"wouldn't\"]\n"
     ]
    },
    {
     "data": {
      "image/png": "[encoded data removed]",
      "text/plain": [
       "<matplotlib.figure.Figure at 0x7f1afefabdd8>"
      ]
     },
     "metadata": {},
     "output_type": "display_data"
    }
   ],
   "source": [
    "import itertools\n",
    "from nltk.corpus import stopwords\n",
    "from collections import Counter\n",
    "from matplotlib import cm\n",
    "words = Counter(i for i in list(itertools.chain.from_iterable(df_train.TEXT)))\n",
    "print(\"Extracting Stopwords ...\")\n",
    "top_words = words.most_common(100)\n",
    "stopwords_list,count = map(list,zip(*top_words))\n",
    "stopwords_list += stopwords.words('english')\n",
    "print(\"Stopwords : \",stopwords_list)\n",
    "\n",
    "circle = plt.Circle((0,0),0.5,color = \"white\")\n",
    "cs = cm.Set1(np.arange(25)/25.)\n",
    "plt.pie(count[:25],labels = stopwords_list[:25])\n",
    "p = plt.gcf()\n",
    "p.gca().add_artist(circle)\n",
    "plt.show()"
   ]
  },
  {
   "cell_type": "code",
   "execution_count": 36,
   "metadata": {
    "collapsed": true
   },
   "outputs": [],
   "source": [
    "sentences = df_train.TEXT"
   ]
  },
  {
   "cell_type": "code",
   "execution_count": 37,
   "metadata": {},
   "outputs": [
    {
     "data": {
      "image/png": "[encoded data removed]",
      "text/plain": [
       "<matplotlib.figure.Figure at 0x7f1afefab2e8>"
      ]
     },
     "metadata": {},
     "output_type": "display_data"
    }
   ],
   "source": [
    "plt.barh(np.arange(len(stopwords_list[:25])), count[:25], align = \"center\", alpha = 0.7)\n",
    "plt.yticks(np.arange(len(stopwords_list[:25])), stopwords_list[:25])\n",
    "plt.xlabel('Count')\n",
    "plt.title('Frequency of stopwords')\n",
    "plt.show()"
   ]
  },
  {
   "cell_type": "code",
   "execution_count": 38,
   "metadata": {},
   "outputs": [
    {
     "data": {
      "image/png": "[encoded data removed]",
      "text/plain": [
       "<matplotlib.figure.Figure at 0x7f1afed65d68>"
      ]
     },
     "metadata": {},
     "output_type": "display_data"
    }
   ],
   "source": [
    "from wordcloud import WordCloud, STOPWORDS, ImageColorGenerator\n",
    "for i in stopwords_list:\n",
    "    del words[i]\n",
    "wordcloud = WordCloud(stopwords = stopwords_list,background_color = \"white\")\n",
    "wordcloud.generate_from_frequencies(frequencies = words)\n",
    "plt.figure()\n",
    "plt.imshow(wordcloud, interpolation = \"bilinear\")\n",
    "plt.axis(\"off\")\n",
    "plt.show()"
   ]
  },
  {
   "cell_type": "code",
   "execution_count": 68,
   "metadata": {},
   "outputs": [
    {
     "name": "stdout",
     "output_type": "stream",
     "text": [
      "Data modelling ...\n"
     ]
    },
    {
     "data": {
      "text/plain": [
       "CountVectorizer(analyzer='word', binary=False, decode_error='strict',\n",
       "        dtype=<class 'numpy.int64'>, encoding='utf-8', input='content',\n",
       "        lowercase=True, max_df=1.0, max_features=3000, min_df=1,\n",
       "        ngram_range=(1, 1), preprocessor=None,\n",
       "        stop_words=['the', 'and', 'to', 'of', 'was', 'with', 'a', 'on', 'mg', 'in', 'for', 'tablet', 'no', 'name', 'is', 'po', 'patient', 's', 'he', 'blood', 'at', 'daily', 'sig', 'as', 'or', 'she', 'hospital', 'discharge', 'one', 'day', 'his', 'last', 'left', 'history', 'her', 'am', 'were', 'you', 'right',... 'shouldn', \"shouldn't\", 'wasn', \"wasn't\", 'weren', \"weren't\", 'won', \"won't\", 'wouldn', \"wouldn't\"],\n",
       "        strip_accents=None, token_pattern='(?u)\\\\b\\\\w\\\\w+\\\\b',\n",
       "        tokenizer=<function tokenizer_better at 0x7f769054c158>,\n",
       "        vocabulary=None)"
      ]
     },
     "execution_count": 68,
     "metadata": {},
     "output_type": "execute_result"
    }
   ],
   "source": [
    "print(\"Data modelling ...\")\n",
    "from sklearn.feature_extraction.text import CountVectorizer\n",
    "vect = CountVectorizer(max_features = 3000, tokenizer = tokenizer_better, stop_words = stopwords_list)\n",
    "\n",
    "df_train.TEXT = [' '.join(i) for i in df_train.TEXT]\n",
    "vect.fit(df_train.TEXT)"
   ]
  },
  {
   "cell_type": "code",
   "execution_count": 39,
   "metadata": {
    "scrolled": true
   },
   "outputs": [
    {
     "name": "stdout",
     "output_type": "stream",
     "text": [
      "...\n"
     ]
    }
   ],
   "source": [
    "print(\"...\")\n",
    "# X_train_tf = vect.transform(df_train.TEXT)\n",
    "# # X_valid_tf = vect.transform(df_valid.TEXT)\n",
    "# print(\"...\")\n",
    "# y_train = df_train.OUTPUT_LABEL\n",
    "# y_valid = df_valid.OUTPUT_LABEL\n",
    "\n",
    "# df_test.TEXT = [tokenizer_better(i) for i in df_test.TEXT]\n",
    "# df_test.TEXT = [' '.join(i) for i in df_test.TEXT]\n",
    "# X_test_tf = vect.transform(df_test.TEXT)\n",
    "# y_test = df_test.OUTPUT_LABEL"
   ]
  },
  {
   "cell_type": "code",
   "execution_count": 40,
   "metadata": {
    "collapsed": true
   },
   "outputs": [],
   "source": [
    "y_train = df_train.OUTPUT_LABEL"
   ]
  },
  {
   "cell_type": "code",
   "execution_count": null,
   "metadata": {
    "collapsed": true,
    "scrolled": true
   },
   "outputs": [],
   "source": [
    "from imblearn.over_sampling import SMOTE\n",
    "# sm = SMOTE(kind='svm',random_state=42)\n",
    "sm = SMOTE(random_state=42)\n",
    "\n",
    "X_train_tf_sample,y_train_sample = sm.fit_sample(X_train_tf,y_train)"
   ]
  },
  {
   "cell_type": "code",
   "execution_count": null,
   "metadata": {
    "collapsed": true
   },
   "outputs": [],
   "source": [
    "print(\"Applying Logistic Regression ...\")\n",
    "from sklearn.linear_model import LogisticRegression\n",
    "# clf = LogisticRegression(C = 0.0001, penalty = 'l2', random_state = 42)\n",
    "# clf.fit(X_train_tf, y_train)\n",
    "clf = LogisticRegression(C = 0.0001, penalty = 'l2', random_state = 42)\n",
    "clf.fit(X_train_tf_sample, y_train_sample)\n",
    "\n",
    "model = clf\n",
    "\n",
    "y_train_preds = model.predict_proba(X_train_tf)[:,1]\n",
    "y_valid_preds = model.predict_proba(X_valid_tf)[:,1]\n",
    "\n",
    "print(y_train[:10].values)\n",
    "print(y_train_preds[:10])"
   ]
  },
  {
   "cell_type": "code",
   "execution_count": null,
   "metadata": {
    "collapsed": true
   },
   "outputs": [],
   "source": [
    "from sklearn.metrics import average_precision_score,recall_score\n",
    "average_precision_score(y_train,model.predict(X_train_tf))"
   ]
  },
  {
   "cell_type": "code",
   "execution_count": null,
   "metadata": {
    "collapsed": true
   },
   "outputs": [],
   "source": [
    "from sklearn.metrics import average_precision_score,recall_score\n",
    "average_precision_score(y_train_sample,model.predict(X_train_tf_sample))"
   ]
  },
  {
   "cell_type": "code",
   "execution_count": null,
   "metadata": {
    "collapsed": true
   },
   "outputs": [],
   "source": [
    "from sklearn.metrics import average_precision_score,recall_score\n",
    "average_precision_score(y_valid,model.predict(X_valid_tf))"
   ]
  },
  {
   "cell_type": "code",
   "execution_count": null,
   "metadata": {
    "collapsed": true
   },
   "outputs": [],
   "source": [
    "sentences = [s.split() for s in sentences]"
   ]
  },
  {
   "cell_type": "code",
   "execution_count": 41,
   "metadata": {},
   "outputs": [
    {
     "name": "stderr",
     "output_type": "stream",
     "text": [
      "/home/shamitha/anaconda3/lib/python3.6/site-packages/ipykernel_launcher.py:7: DeprecationWarning: Call to deprecated `__getitem__` (Method will be removed in 4.0.0, use self.wv.__getitem__() instead).\n",
      "  import sys\n"
     ]
    }
   ],
   "source": [
    "from gensim.models import Word2Vec\n",
    "from sklearn.decomposition import PCA\n",
    "from matplotlib import pyplot\n",
    "\n",
    "# sentences = [['this','is','a','sentence'],['hi','how','are','you'],['this','is','the','final','sentence']]\n",
    "model = Word2Vec(sentences, min_count = 1)\n",
    "X = model[model.wv.vocab]\n",
    "# pca = PCA(n_components = 2)\n",
    "# result = pca.fit_transform(X)\n",
    "\n",
    "# pyplot.scatter(result[:,0],result[:,1])\n",
    "\n",
    "\n",
    "# for i, word in enumerate(words):\n",
    "#     pyplot.annotate(word, xy=(result[i, 0], result[i,1]))\n",
    "# pyplot.show()"
   ]
  },
  {
   "cell_type": "code",
   "execution_count": 42,
   "metadata": {},
   "outputs": [
    {
     "data": {
      "text/plain": [
       "((38991, 100), 4184)"
      ]
     },
     "execution_count": 42,
     "metadata": {},
     "output_type": "execute_result"
    }
   ],
   "source": [
    "X.shape,len(sentences)\n",
    "# pca = PCA(n_components = 2)\n",
    "# result = pca.fit_transform(arr)"
   ]
  },
  {
   "cell_type": "code",
   "execution_count": 75,
   "metadata": {},
   "outputs": [
    {
     "name": "stderr",
     "output_type": "stream",
     "text": [
      "/home/shamitha/anaconda3/lib/python3.6/site-packages/ipykernel_launcher.py:6: DeprecationWarning: Call to deprecated `__getitem__` (Method will be removed in 4.0.0, use self.wv.__getitem__() instead).\n",
      "  \n",
      "/home/shamitha/anaconda3/lib/python3.6/site-packages/ipykernel_launcher.py:8: RuntimeWarning: Mean of empty slice.\n",
      "  \n",
      "/home/shamitha/anaconda3/lib/python3.6/site-packages/numpy/core/_methods.py:85: RuntimeWarning: invalid value encountered in double_scalars\n",
      "  ret = ret.dtype.type(ret / rcount)\n"
     ]
    },
    {
     "name": "stdout",
     "output_type": "stream",
     "text": [
      "(4184, 100)\n"
     ]
    }
   ],
   "source": [
    "words = list(model.wv.vocab)\n",
    "arr = []\n",
    "for sentence in sentences:\n",
    "    tmp = []\n",
    "    for word in sentence:\n",
    "        tmp.append(model[word])\n",
    "    tmp = np.array(tmp)\n",
    "    tmp = tmp.mean(axis = 0)\n",
    "    if tmp.size == 100:\n",
    "        arr.append(tmp)\n",
    "    else:\n",
    "        arr.append([0]*100)\n",
    "arr = np.array(arr)\n",
    "print(arr.shape)"
   ]
  },
  {
   "cell_type": "code",
   "execution_count": 93,
   "metadata": {},
   "outputs": [
    {
     "name": "stdout",
     "output_type": "stream",
     "text": [
      "Applying Logistic Regression ...\n",
      "0.5622360208465452\n",
      "0.6025334608030594\n"
     ]
    },
    {
     "name": "stderr",
     "output_type": "stream",
     "text": [
      "/home/shamitha/anaconda3/lib/python3.6/site-packages/sklearn/linear_model/logistic.py:433: FutureWarning: Default solver will be changed to 'lbfgs' in 0.22. Specify a solver to silence this warning.\n",
      "  FutureWarning)\n"
     ]
    }
   ],
   "source": [
    "print(\"Applying Logistic Regression ...\")\n",
    "from sklearn.linear_model import LogisticRegression\n",
    "# clf = LogisticRegression(C = 0.0001, penalty = 'l2', random_state = 42)\n",
    "# clf.fit(X_train_tf, y_train)\n",
    "clf = LogisticRegression(C = 0.001, penalty = 'l2', random_state = 42)\n",
    "clf.fit(arr, y_train)\n",
    "\n",
    "model = clf\n",
    "\n",
    "from sklearn.metrics import average_precision_score,recall_score\n",
    "print(average_precision_score(y_train,model.predict(arr)))\n",
    "\n",
    "from sklearn.metrics import roc_auc_score\n",
    "print(roc_auc_score(y_train,model.predict(arr)))"
   ]
  },
  {
   "cell_type": "code",
   "execution_count": null,
   "metadata": {
    "collapsed": true
   },
   "outputs": [],
   "source": []
  },
  {
   "cell_type": "code",
   "execution_count": null,
   "metadata": {
    "collapsed": true
   },
   "outputs": [],
   "source": []
  },
  {
   "cell_type": "code",
   "execution_count": null,
   "metadata": {
    "collapsed": true
   },
   "outputs": [],
   "source": []
  },
  {
   "cell_type": "code",
   "execution_count": null,
   "metadata": {
    "collapsed": true
   },
   "outputs": [],
   "source": []
  },
  {
   "cell_type": "code",
   "execution_count": null,
   "metadata": {
    "collapsed": true
   },
   "outputs": [],
   "source": []
  }
 ],
 "metadata": {
  "kernelspec": {
   "display_name": "Python 3",
   "language": "python",
   "name": "python3"
  },
  "language_info": {
   "codemirror_mode": {
    "name": "ipython",
    "version": 3
   },
   "file_extension": ".py",
   "mimetype": "text/x-python",
   "name": "python",
   "nbconvert_exporter": "python",
   "pygments_lexer": "ipython3",
   "version": "3.6.1"
  }
 },
 "nbformat": 4,
 "nbformat_minor": 2
}
