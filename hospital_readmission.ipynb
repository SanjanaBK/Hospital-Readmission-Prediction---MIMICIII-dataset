{
 "cells": [
  {
   "cell_type": "code",
   "execution_count": 1,
   "metadata": {
    "collapsed": true
   },
   "outputs": [],
   "source": [
    "import pandas as pd\n",
    "import numpy as np\n",
    "import matplotlib.pyplot as plt\n",
    "\n",
    "df_adm = pd.read_csv('ADMISSIONS.csv')"
   ]
  },
  {
   "cell_type": "code",
   "execution_count": 2,
   "metadata": {},
   "outputs": [
    {
     "name": "stdout",
     "output_type": "stream",
     "text": [
      "Total number of records :  58976\n",
      "Total number of columns :  19\n"
     ]
    }
   ],
   "source": [
    "print(\"Total number of records : \",len(df_adm))\n",
    "print(\"Total number of columns : \",len(df_adm.columns))\n",
    "# print(\"Columns : \",df_adm.columns)"
   ]
  },
  {
   "cell_type": "code",
   "execution_count": 3,
   "metadata": {},
   "outputs": [
    {
     "name": "stdout",
     "output_type": "stream",
     "text": [
      "Finding missing values ... \n"
     ]
    },
    {
     "data": {
      "text/plain": [
       "ROW_ID                      0\n",
       "SUBJECT_ID                  0\n",
       "HADM_ID                     0\n",
       "ADMITTIME                   0\n",
       "DISCHTIME                   0\n",
       "DEATHTIME               53122\n",
       "ADMISSION_TYPE              0\n",
       "ADMISSION_LOCATION          0\n",
       "DISCHARGE_LOCATION          0\n",
       "INSURANCE                   0\n",
       "LANGUAGE                25332\n",
       "RELIGION                  458\n",
       "MARITAL_STATUS          10128\n",
       "ETHNICITY                   0\n",
       "EDREGTIME               28099\n",
       "EDOUTTIME               28099\n",
       "DIAGNOSIS                  25\n",
       "HOSPITAL_EXPIRE_FLAG        0\n",
       "HAS_CHARTEVENTS_DATA        0\n",
       "dtype: int64"
      ]
     },
     "execution_count": 3,
     "metadata": {},
     "output_type": "execute_result"
    }
   ],
   "source": [
    "print(\"Finding missing values ... \")\n",
    "df_adm.isnull().sum()"
   ]
  },
  {
   "cell_type": "code",
   "execution_count": 4,
   "metadata": {},
   "outputs": [
    {
     "name": "stdout",
     "output_type": "stream",
     "text": [
      "Group Admission Types\n"
     ]
    },
    {
     "data": {
      "text/plain": [
       "ADMISSION_TYPE\n",
       "ELECTIVE      7706\n",
       "EMERGENCY    42071\n",
       "NEWBORN       7863\n",
       "URGENT        1336\n",
       "dtype: int64"
      ]
     },
     "execution_count": 4,
     "metadata": {},
     "output_type": "execute_result"
    }
   ],
   "source": [
    "print(\"Group Admission Types\")\n",
    "df_adm.groupby(['ADMISSION_TYPE']).size()"
   ]
  },
  {
   "cell_type": "code",
   "execution_count": 5,
   "metadata": {},
   "outputs": [
    {
     "name": "stdout",
     "output_type": "stream",
     "text": [
      "Converting Date string to Datetime object ...\n",
      "Number of missing date admissions: 0\n",
      "Number of missing date discharges: 0\n"
     ]
    }
   ],
   "source": [
    "print(\"Converting Date string to Datetime object ...\")\n",
    "df_adm.ADMITTIME = pd.to_datetime(df_adm.ADMITTIME, format = '%Y-%m-%d %H:%M:%S', errors = 'coerce')\n",
    "df_adm.DEATHTIME = pd.to_datetime(df_adm.DEATHTIME, format = '%Y-%m-%d %H:%M:%S', errors = 'coerce')\n",
    "df_adm.DISCHTIME = pd.to_datetime(df_adm.DISCHTIME, format = '%Y-%m-%d %H:%M:%S', errors = 'coerce')\n",
    "\n",
    "print('Number of missing date admissions:', df_adm.ADMITTIME.isnull().sum())\n",
    "print('Number of missing date discharges:', df_adm.DISCHTIME.isnull().sum())"
   ]
  },
  {
   "cell_type": "code",
   "execution_count": 6,
   "metadata": {},
   "outputs": [
    {
     "name": "stdout",
     "output_type": "stream",
     "text": [
      "Sorting the dataset by SUBJECT_ID and ADMITTIME ...\n"
     ]
    }
   ],
   "source": [
    "print(\"Sorting the dataset by SUBJECT_ID and ADMITTIME ...\")\n",
    "df_adm = df_adm.sort_values(['SUBJECT_ID','ADMITTIME'])\n",
    "df_adm = df_adm.reset_index(drop = True)"
   ]
  },
  {
   "cell_type": "code",
   "execution_count": 7,
   "metadata": {},
   "outputs": [
    {
     "data": {
      "text/html": [
       "<div>\n",
       "<style>\n",
       "    .dataframe thead tr:only-child th {\n",
       "        text-align: right;\n",
       "    }\n",
       "\n",
       "    .dataframe thead th {\n",
       "        text-align: left;\n",
       "    }\n",
       "\n",
       "    .dataframe tbody tr th {\n",
       "        vertical-align: top;\n",
       "    }\n",
       "</style>\n",
       "<table border=\"1\" class=\"dataframe\">\n",
       "  <thead>\n",
       "    <tr style=\"text-align: right;\">\n",
       "      <th></th>\n",
       "      <th>SUBJECT_ID</th>\n",
       "      <th>ADMITTIME</th>\n",
       "      <th>ADMISSION_TYPE</th>\n",
       "    </tr>\n",
       "  </thead>\n",
       "  <tbody>\n",
       "    <tr>\n",
       "      <th>165</th>\n",
       "      <td>124</td>\n",
       "      <td>2160-06-24 21:25:00</td>\n",
       "      <td>EMERGENCY</td>\n",
       "    </tr>\n",
       "    <tr>\n",
       "      <th>166</th>\n",
       "      <td>124</td>\n",
       "      <td>2161-12-17 03:39:00</td>\n",
       "      <td>EMERGENCY</td>\n",
       "    </tr>\n",
       "    <tr>\n",
       "      <th>167</th>\n",
       "      <td>124</td>\n",
       "      <td>2165-05-21 21:02:00</td>\n",
       "      <td>ELECTIVE</td>\n",
       "    </tr>\n",
       "    <tr>\n",
       "      <th>168</th>\n",
       "      <td>124</td>\n",
       "      <td>2165-12-31 18:55:00</td>\n",
       "      <td>EMERGENCY</td>\n",
       "    </tr>\n",
       "  </tbody>\n",
       "</table>\n",
       "</div>"
      ],
      "text/plain": [
       "     SUBJECT_ID           ADMITTIME ADMISSION_TYPE\n",
       "165         124 2160-06-24 21:25:00      EMERGENCY\n",
       "166         124 2161-12-17 03:39:00      EMERGENCY\n",
       "167         124 2165-05-21 21:02:00       ELECTIVE\n",
       "168         124 2165-12-31 18:55:00      EMERGENCY"
      ]
     },
     "execution_count": 7,
     "metadata": {},
     "output_type": "execute_result"
    }
   ],
   "source": [
    "df_adm.loc[df_adm.SUBJECT_ID == 124,['SUBJECT_ID','ADMITTIME','ADMISSION_TYPE']]"
   ]
  },
  {
   "cell_type": "code",
   "execution_count": 8,
   "metadata": {},
   "outputs": [
    {
     "name": "stdout",
     "output_type": "stream",
     "text": [
      "Adding NEXT_ADMITTIME and NEXT_ADMISSION_TYPE for every record ...\n"
     ]
    }
   ],
   "source": [
    "print(\"Adding NEXT_ADMITTIME and NEXT_ADMISSION_TYPE for every record ...\")\n",
    "df_adm['NEXT_ADMITTIME'] = df_adm.groupby('SUBJECT_ID').ADMITTIME.shift(-1)\n",
    "df_adm['NEXT_ADMISSION_TYPE'] = df_adm.groupby('SUBJECT_ID').ADMISSION_TYPE.shift(-1)"
   ]
  },
  {
   "cell_type": "code",
   "execution_count": 9,
   "metadata": {},
   "outputs": [
    {
     "name": "stdout",
     "output_type": "stream",
     "text": [
      "     SUBJECT_ID           ADMITTIME           DISCHTIME ADMISSION_TYPE  \\\n",
      "165         124 2160-06-24 21:25:00 2160-07-15 15:10:00      EMERGENCY   \n",
      "166         124 2161-12-17 03:39:00 2161-12-24 15:35:00      EMERGENCY   \n",
      "167         124 2165-05-21 21:02:00 2165-06-06 16:00:00       ELECTIVE   \n",
      "168         124 2165-12-31 18:55:00 2166-02-01 06:55:00      EMERGENCY   \n",
      "\n",
      "         NEXT_ADMITTIME NEXT_ADMISSION_TYPE  \n",
      "165 2161-12-17 03:39:00           EMERGENCY  \n",
      "166 2165-05-21 21:02:00            ELECTIVE  \n",
      "167 2165-12-31 18:55:00           EMERGENCY  \n",
      "168                 NaT                 NaN  \n",
      "      SUBJECT_ID           ADMITTIME           DISCHTIME ADMISSION_TYPE  \\\n",
      "6384        5246 2185-11-14 08:36:00 2185-12-21 18:15:00      EMERGENCY   \n",
      "6385        5246 2185-12-02 23:53:00 2185-12-21 18:15:00      EMERGENCY   \n",
      "\n",
      "          NEXT_ADMITTIME NEXT_ADMISSION_TYPE  \n",
      "6384 2185-12-02 23:53:00           EMERGENCY  \n",
      "6385                 NaT                 NaN  \n"
     ]
    }
   ],
   "source": [
    "print(df_adm.loc[df_adm.SUBJECT_ID == 124,['SUBJECT_ID','ADMITTIME','DISCHTIME','ADMISSION_TYPE','NEXT_ADMITTIME','NEXT_ADMISSION_TYPE']])\n",
    "print(df_adm.loc[df_adm.SUBJECT_ID == 5246,['SUBJECT_ID','ADMITTIME','DISCHTIME','ADMISSION_TYPE','NEXT_ADMITTIME','NEXT_ADMISSION_TYPE']])"
   ]
  },
  {
   "cell_type": "code",
   "execution_count": 10,
   "metadata": {},
   "outputs": [
    {
     "name": "stdout",
     "output_type": "stream",
     "text": [
      "Elective readmission should not be considered ...\n"
     ]
    }
   ],
   "source": [
    "print(\"Elective readmission should not be considered ...\")\n",
    "rows = df_adm.NEXT_ADMISSION_TYPE == 'ELECTIVE'\n",
    "df_adm.loc[rows,['NEXT_ADMITTIME']] = pd.NaT\n",
    "df_adm.loc[rows,['NEXT_ADMISSION_TYPE']] = np.NaN"
   ]
  },
  {
   "cell_type": "code",
   "execution_count": 11,
   "metadata": {
    "scrolled": true
   },
   "outputs": [
    {
     "data": {
      "text/html": [
       "<div>\n",
       "<style>\n",
       "    .dataframe thead tr:only-child th {\n",
       "        text-align: right;\n",
       "    }\n",
       "\n",
       "    .dataframe thead th {\n",
       "        text-align: left;\n",
       "    }\n",
       "\n",
       "    .dataframe tbody tr th {\n",
       "        vertical-align: top;\n",
       "    }\n",
       "</style>\n",
       "<table border=\"1\" class=\"dataframe\">\n",
       "  <thead>\n",
       "    <tr style=\"text-align: right;\">\n",
       "      <th></th>\n",
       "      <th>SUBJECT_ID</th>\n",
       "      <th>ADMITTIME</th>\n",
       "      <th>ADMISSION_TYPE</th>\n",
       "      <th>NEXT_ADMITTIME</th>\n",
       "      <th>NEXT_ADMISSION_TYPE</th>\n",
       "    </tr>\n",
       "  </thead>\n",
       "  <tbody>\n",
       "    <tr>\n",
       "      <th>165</th>\n",
       "      <td>124</td>\n",
       "      <td>2160-06-24 21:25:00</td>\n",
       "      <td>EMERGENCY</td>\n",
       "      <td>2161-12-17 03:39:00</td>\n",
       "      <td>EMERGENCY</td>\n",
       "    </tr>\n",
       "    <tr>\n",
       "      <th>166</th>\n",
       "      <td>124</td>\n",
       "      <td>2161-12-17 03:39:00</td>\n",
       "      <td>EMERGENCY</td>\n",
       "      <td>NaT</td>\n",
       "      <td>NaN</td>\n",
       "    </tr>\n",
       "    <tr>\n",
       "      <th>167</th>\n",
       "      <td>124</td>\n",
       "      <td>2165-05-21 21:02:00</td>\n",
       "      <td>ELECTIVE</td>\n",
       "      <td>2165-12-31 18:55:00</td>\n",
       "      <td>EMERGENCY</td>\n",
       "    </tr>\n",
       "    <tr>\n",
       "      <th>168</th>\n",
       "      <td>124</td>\n",
       "      <td>2165-12-31 18:55:00</td>\n",
       "      <td>EMERGENCY</td>\n",
       "      <td>NaT</td>\n",
       "      <td>NaN</td>\n",
       "    </tr>\n",
       "  </tbody>\n",
       "</table>\n",
       "</div>"
      ],
      "text/plain": [
       "     SUBJECT_ID           ADMITTIME ADMISSION_TYPE      NEXT_ADMITTIME  \\\n",
       "165         124 2160-06-24 21:25:00      EMERGENCY 2161-12-17 03:39:00   \n",
       "166         124 2161-12-17 03:39:00      EMERGENCY                 NaT   \n",
       "167         124 2165-05-21 21:02:00       ELECTIVE 2165-12-31 18:55:00   \n",
       "168         124 2165-12-31 18:55:00      EMERGENCY                 NaT   \n",
       "\n",
       "    NEXT_ADMISSION_TYPE  \n",
       "165           EMERGENCY  \n",
       "166                 NaN  \n",
       "167           EMERGENCY  \n",
       "168                 NaN  "
      ]
     },
     "execution_count": 11,
     "metadata": {},
     "output_type": "execute_result"
    }
   ],
   "source": [
    "df_adm.loc[df_adm.SUBJECT_ID == 124,['SUBJECT_ID','ADMITTIME','ADMISSION_TYPE','NEXT_ADMITTIME','NEXT_ADMISSION_TYPE']]"
   ]
  },
  {
   "cell_type": "code",
   "execution_count": 12,
   "metadata": {},
   "outputs": [
    {
     "name": "stdout",
     "output_type": "stream",
     "text": [
      "Sorting the dataset by SUBJECT_ID and ADMITTIME ...\n",
      "Again fill the values ...\n"
     ]
    }
   ],
   "source": [
    "print(\"Sorting the dataset by SUBJECT_ID and ADMITTIME ...\")\n",
    "df_adm = df_adm.sort_values(['SUBJECT_ID','ADMITTIME'])\n",
    "\n",
    "print(\"Again fill the values ...\")\n",
    "df_adm[['NEXT_ADMITTIME','NEXT_ADMISSION_TYPE']] = df_adm.groupby(['SUBJECT_ID'])[['NEXT_ADMITTIME','NEXT_ADMISSION_TYPE']].fillna(method = 'bfill')"
   ]
  },
  {
   "cell_type": "code",
   "execution_count": 13,
   "metadata": {
    "scrolled": false
   },
   "outputs": [
    {
     "data": {
      "text/html": [
       "<div>\n",
       "<style>\n",
       "    .dataframe thead tr:only-child th {\n",
       "        text-align: right;\n",
       "    }\n",
       "\n",
       "    .dataframe thead th {\n",
       "        text-align: left;\n",
       "    }\n",
       "\n",
       "    .dataframe tbody tr th {\n",
       "        vertical-align: top;\n",
       "    }\n",
       "</style>\n",
       "<table border=\"1\" class=\"dataframe\">\n",
       "  <thead>\n",
       "    <tr style=\"text-align: right;\">\n",
       "      <th></th>\n",
       "      <th>SUBJECT_ID</th>\n",
       "      <th>ADMITTIME</th>\n",
       "      <th>DISCHTIME</th>\n",
       "      <th>ADMISSION_TYPE</th>\n",
       "      <th>NEXT_ADMITTIME</th>\n",
       "      <th>NEXT_ADMISSION_TYPE</th>\n",
       "    </tr>\n",
       "  </thead>\n",
       "  <tbody>\n",
       "    <tr>\n",
       "      <th>165</th>\n",
       "      <td>124</td>\n",
       "      <td>2160-06-24 21:25:00</td>\n",
       "      <td>2160-07-15 15:10:00</td>\n",
       "      <td>EMERGENCY</td>\n",
       "      <td>2161-12-17 03:39:00</td>\n",
       "      <td>EMERGENCY</td>\n",
       "    </tr>\n",
       "    <tr>\n",
       "      <th>166</th>\n",
       "      <td>124</td>\n",
       "      <td>2161-12-17 03:39:00</td>\n",
       "      <td>2161-12-24 15:35:00</td>\n",
       "      <td>EMERGENCY</td>\n",
       "      <td>2165-12-31 18:55:00</td>\n",
       "      <td>EMERGENCY</td>\n",
       "    </tr>\n",
       "    <tr>\n",
       "      <th>167</th>\n",
       "      <td>124</td>\n",
       "      <td>2165-05-21 21:02:00</td>\n",
       "      <td>2165-06-06 16:00:00</td>\n",
       "      <td>ELECTIVE</td>\n",
       "      <td>2165-12-31 18:55:00</td>\n",
       "      <td>EMERGENCY</td>\n",
       "    </tr>\n",
       "    <tr>\n",
       "      <th>168</th>\n",
       "      <td>124</td>\n",
       "      <td>2165-12-31 18:55:00</td>\n",
       "      <td>2166-02-01 06:55:00</td>\n",
       "      <td>EMERGENCY</td>\n",
       "      <td>NaT</td>\n",
       "      <td>NaN</td>\n",
       "    </tr>\n",
       "  </tbody>\n",
       "</table>\n",
       "</div>"
      ],
      "text/plain": [
       "     SUBJECT_ID           ADMITTIME           DISCHTIME ADMISSION_TYPE  \\\n",
       "165         124 2160-06-24 21:25:00 2160-07-15 15:10:00      EMERGENCY   \n",
       "166         124 2161-12-17 03:39:00 2161-12-24 15:35:00      EMERGENCY   \n",
       "167         124 2165-05-21 21:02:00 2165-06-06 16:00:00       ELECTIVE   \n",
       "168         124 2165-12-31 18:55:00 2166-02-01 06:55:00      EMERGENCY   \n",
       "\n",
       "         NEXT_ADMITTIME NEXT_ADMISSION_TYPE  \n",
       "165 2161-12-17 03:39:00           EMERGENCY  \n",
       "166 2165-12-31 18:55:00           EMERGENCY  \n",
       "167 2165-12-31 18:55:00           EMERGENCY  \n",
       "168                 NaT                 NaN  "
      ]
     },
     "execution_count": 13,
     "metadata": {},
     "output_type": "execute_result"
    }
   ],
   "source": [
    "df_adm.loc[df_adm.SUBJECT_ID == 124,['SUBJECT_ID','ADMITTIME','DISCHTIME','ADMISSION_TYPE','NEXT_ADMITTIME','NEXT_ADMISSION_TYPE']]"
   ]
  },
  {
   "cell_type": "code",
   "execution_count": 14,
   "metadata": {},
   "outputs": [
    {
     "name": "stdout",
     "output_type": "stream",
     "text": [
      "Calculating days between discharge and readmission ...\n"
     ]
    }
   ],
   "source": [
    "print(\"Calculating days between discharge and readmission ...\")\n",
    "df_adm['DAYS_NEXT_ADMIT'] = (df_adm.NEXT_ADMITTIME - df_adm.DISCHTIME).dt.total_seconds()/(24*60*60)"
   ]
  },
  {
   "cell_type": "code",
   "execution_count": 15,
   "metadata": {},
   "outputs": [
    {
     "data": {
      "image/png": "[encoded data removed]",
      "text/plain": [
       "<matplotlib.figure.Figure at 0x7f2dadf19780>"
      ]
     },
     "metadata": {},
     "output_type": "display_data"
    },
    {
     "data": {
      "image/png": "[encoded data removed]",
      "text/plain": [
       "<matplotlib.figure.Figure at 0x7f2da5041240>"
      ]
     },
     "metadata": {},
     "output_type": "display_data"
    }
   ],
   "source": [
    "re_add_time = df_adm.loc[~df_adm.DAYS_NEXT_ADMIT.isnull(),'DAYS_NEXT_ADMIT']\n",
    "re_add_time = [x for x in re_add_time if x > 0] or None\n",
    "plt.hist(list(re_add_time), bins = range(0,365+30,50), color = \"orange\")\n",
    "plt.xlabel(\"Number of Days\")\n",
    "plt.ylabel(\"Frequency\")\n",
    "plt.title(\"Readmission gaps\")\n",
    "plt.show()\n",
    "plt.hist(list(re_add_time), bins = 30, range = (0,30))\n",
    "plt.xlabel(\"Number of Days\")\n",
    "plt.ylabel(\"Frequency\")\n",
    "plt.title(\"Readmission within 30 Days\")\n",
    "plt.show()"
   ]
  },
  {
   "cell_type": "code",
   "execution_count": 16,
   "metadata": {},
   "outputs": [
    {
     "name": "stdout",
     "output_type": "stream",
     "text": [
      "Number of patients with readmissions: 11399\n",
      "Total number: 58976\n"
     ]
    }
   ],
   "source": [
    "print(\"Number of patients with readmissions:\", (~df_adm.DAYS_NEXT_ADMIT.isnull()).sum())\n",
    "print(\"Total number:\",len(df_adm))"
   ]
  },
  {
   "cell_type": "code",
   "execution_count": 17,
   "metadata": {
    "collapsed": true
   },
   "outputs": [],
   "source": [
    "df_notes = pd.read_csv(\"only_discharge_summaries.csv\")"
   ]
  },
  {
   "cell_type": "code",
   "execution_count": 18,
   "metadata": {},
   "outputs": [
    {
     "name": "stdout",
     "output_type": "stream",
     "text": [
      "Total number of notes :  59652\n",
      "Total number of columns :  11\n"
     ]
    },
    {
     "data": {
      "text/plain": [
       "Index(['ROW_ID', 'SUBJECT_ID', 'HADM_ID', 'CHARTDATE', 'CHARTTIME',\n",
       "       'STORETIME', 'CATEGORY', 'DESCRIPTION', 'CGID', 'ISERROR', 'TEXT'],\n",
       "      dtype='object')"
      ]
     },
     "execution_count": 18,
     "metadata": {},
     "output_type": "execute_result"
    }
   ],
   "source": [
    "print(\"Total number of notes : \",len(df_notes))\n",
    "print(\"Total number of columns : \",len(df_notes.columns))\n",
    "df_notes.columns"
   ]
  },
  {
   "cell_type": "code",
   "execution_count": 19,
   "metadata": {},
   "outputs": [
    {
     "data": {
      "text/plain": [
       "CATEGORY\n",
       "Discharge summary    59652\n",
       "dtype: int64"
      ]
     },
     "execution_count": 19,
     "metadata": {},
     "output_type": "execute_result"
    }
   ],
   "source": [
    "df_notes.groupby(['CATEGORY']).size()"
   ]
  },
  {
   "cell_type": "code",
   "execution_count": 20,
   "metadata": {},
   "outputs": [
    {
     "data": {
      "text/plain": [
       "'Admission Date:  [**2151-7-16**]       Discharge Date:  [**2151-8-4**]\\n\\n\\nService:\\nADDENDUM:\\n\\nRADIOLOGIC STUDIES:  Radiologic studies also included a chest\\nCT, which confirmed cavitary lesions in the left lung apex\\nconsistent with infectious process/tuberculosis.  This also\\nmoderate-sized left pleural effusion.\\n\\nHEAD CT:  Head CT showed no intracranial hemorrhage or mass\\neffect, but old infarction consistent with past medical\\nhistory.\\n\\nABDOMINAL CT:  Abdominal CT showed lesions of\\nT10 and sacrum most likely secondary to osteoporosis. These can\\nbe followed by repeat imaging as an outpatient.\\n\\n\\n\\n                            [**First Name8 (NamePattern2) **] [**First Name4 (NamePattern1) 1775**] [**Last Name (NamePattern1) **], M.D.  [**MD Number(1) 1776**]\\n\\nDictated By:[**Hospital 1807**]\\nMEDQUIST36\\n\\nD:  [**2151-8-5**]  12:11\\nT:  [**2151-8-5**]  12:21\\nJOB#:  [**Job Number 1808**]\\n'"
      ]
     },
     "execution_count": 20,
     "metadata": {},
     "output_type": "execute_result"
    }
   ],
   "source": [
    "df_notes.TEXT.iloc[0]"
   ]
  },
  {
   "cell_type": "code",
   "execution_count": 21,
   "metadata": {
    "scrolled": false
   },
   "outputs": [
    {
     "ename": "AssertionError",
     "evalue": "Multiple discharge notes per admission",
     "output_type": "error",
     "traceback": [
      "\u001b[0;31m---------------------------------------------------------------------\u001b[0m",
      "\u001b[0;31mAssertionError\u001b[0m                      Traceback (most recent call last)",
      "\u001b[0;32m<ipython-input-21-497b58d46a14>\u001b[0m in \u001b[0;36m<module>\u001b[0;34m()\u001b[0m\n\u001b[1;32m      1\u001b[0m \u001b[0mdf_notes_dis_sum\u001b[0m \u001b[0;34m=\u001b[0m \u001b[0mdf_notes\u001b[0m\u001b[0;34m\u001b[0m\u001b[0m\n\u001b[0;32m----> 2\u001b[0;31m \u001b[0;32massert\u001b[0m \u001b[0mdf_notes_dis_sum\u001b[0m\u001b[0;34m.\u001b[0m\u001b[0mduplicated\u001b[0m\u001b[0;34m(\u001b[0m\u001b[0;34m[\u001b[0m\u001b[0;34m'HADM_ID'\u001b[0m\u001b[0;34m]\u001b[0m\u001b[0;34m)\u001b[0m\u001b[0;34m.\u001b[0m\u001b[0msum\u001b[0m\u001b[0;34m(\u001b[0m\u001b[0;34m)\u001b[0m \u001b[0;34m==\u001b[0m \u001b[0;36m0\u001b[0m\u001b[0;34m,\u001b[0m \u001b[0;34m'Multiple discharge notes per admission'\u001b[0m\u001b[0;34m\u001b[0m\u001b[0m\n\u001b[0m",
      "\u001b[0;31mAssertionError\u001b[0m: Multiple discharge notes per admission"
     ]
    }
   ],
   "source": [
    "df_notes_dis_sum = df_notes\n",
    "assert df_notes_dis_sum.duplicated(['HADM_ID']).sum() == 0, 'Multiple discharge notes per admission'"
   ]
  },
  {
   "cell_type": "code",
   "execution_count": 22,
   "metadata": {
    "collapsed": true
   },
   "outputs": [],
   "source": [
    "df_notes_dis_sum_last = (df_notes_dis_sum.groupby(['SUBJECT_ID','HADM_ID']).nth(-1)).reset_index()\n",
    "assert df_notes_dis_sum_last.duplicated(['HADM_ID']).sum() == 0, 'Multiple discharge notes per admission'"
   ]
  },
  {
   "cell_type": "code",
   "execution_count": 23,
   "metadata": {
    "collapsed": true
   },
   "outputs": [],
   "source": [
    "df_adm_notes = pd.merge(df_adm[['SUBJECT_ID','HADM_ID','ADMITTIME','DISCHTIME','DAYS_NEXT_ADMIT','NEXT_ADMITTIME','ADMISSION_TYPE','DEATHTIME']],\n",
    "                        df_notes_dis_sum_last[['SUBJECT_ID','HADM_ID','TEXT']], \n",
    "                        on = ['SUBJECT_ID','HADM_ID'],\n",
    "                        how = 'left')\n",
    "assert len(df_adm) == len(df_adm_notes), 'Number of rows increased'"
   ]
  },
  {
   "cell_type": "code",
   "execution_count": 24,
   "metadata": {},
   "outputs": [
    {
     "data": {
      "text/plain": [
       "ADMISSION_TYPE\n",
       "ELECTIVE     0.048663\n",
       "EMERGENCY    0.037983\n",
       "NEWBORN      0.536691\n",
       "URGENT       0.042665\n",
       "dtype: float64"
      ]
     },
     "execution_count": 24,
     "metadata": {},
     "output_type": "execute_result"
    }
   ],
   "source": [
    "df_adm_notes.groupby('ADMISSION_TYPE').apply(lambda g: g.TEXT.isnull().sum())/df_adm_notes.groupby('ADMISSION_TYPE').size()"
   ]
  },
  {
   "cell_type": "code",
   "execution_count": 25,
   "metadata": {
    "collapsed": true
   },
   "outputs": [],
   "source": [
    "df_adm_notes_clean = df_adm_notes.loc[df_adm_notes.ADMISSION_TYPE != 'NEWBORN'].copy()"
   ]
  },
  {
   "cell_type": "code",
   "execution_count": 26,
   "metadata": {
    "collapsed": true
   },
   "outputs": [],
   "source": [
    "df_adm_notes_clean['OUTPUT_LABEL'] = (df_adm_notes_clean.DAYS_NEXT_ADMIT < 30).astype('int')"
   ]
  },
  {
   "cell_type": "code",
   "execution_count": 27,
   "metadata": {},
   "outputs": [
    {
     "name": "stdout",
     "output_type": "stream",
     "text": [
      "Number of positive samples: 3004\n",
      "Number of negative samples: 48109\n",
      "Total samples: 51113\n"
     ]
    }
   ],
   "source": [
    "print('Number of positive samples:', (df_adm_notes_clean.OUTPUT_LABEL == 1).sum())\n",
    "print('Number of negative samples:',  (df_adm_notes_clean.OUTPUT_LABEL == 0).sum())\n",
    "print('Total samples:', len(df_adm_notes_clean))"
   ]
  },
  {
   "cell_type": "code",
   "execution_count": 28,
   "metadata": {},
   "outputs": [
    {
     "name": "stdout",
     "output_type": "stream",
     "text": [
      "Test prevalence(n = 7667): 0.061953828094430674\n",
      "Valid prevalence(n = 7667): 0.056997521846876224\n",
      "Train all prevalence(n = 35779): 0.05847005226529529\n",
      "Total number of samples (n = 51113)\n"
     ]
    }
   ],
   "source": [
    "# shuffle the samples\n",
    "df_adm_notes_clean = df_adm_notes_clean.sample(n = len(df_adm_notes_clean), random_state = 42)\n",
    "df_adm_notes_clean = df_adm_notes_clean.reset_index(drop = True)\n",
    "\n",
    "# Save 30% of the data as validation and test data \n",
    "df_valid_test=df_adm_notes_clean.sample(frac=0.30,random_state=42)\n",
    "\n",
    "df_test = df_valid_test.sample(frac = 0.5, random_state = 42)\n",
    "df_valid = df_valid_test.drop(df_test.index)\n",
    "\n",
    "# use the rest of the data as training data\n",
    "df_train_all=df_adm_notes_clean.drop(df_valid_test.index)\n",
    "\n",
    "print('Test prevalence(n = %d):'%len(df_test),df_test.OUTPUT_LABEL.sum()/ len(df_test))\n",
    "print('Valid prevalence(n = %d):'%len(df_valid),df_valid.OUTPUT_LABEL.sum()/ len(df_valid))\n",
    "print('Train all prevalence(n = %d):'%len(df_train_all), df_train_all.OUTPUT_LABEL.sum()/ len(df_train_all))\n",
    "print('Total number of samples (n = %d)'%len(df_adm_notes_clean))\n",
    "assert len(df_adm_notes_clean) == (len(df_test)+len(df_valid)+len(df_train_all)),'math didnt work'"
   ]
  },
  {
   "cell_type": "code",
   "execution_count": 29,
   "metadata": {},
   "outputs": [
    {
     "name": "stdout",
     "output_type": "stream",
     "text": [
      "Train prevalence (n = 4184): 0.5\n"
     ]
    }
   ],
   "source": [
    "# split the training data into positive and negative\n",
    "rows_pos = df_train_all.OUTPUT_LABEL == 1\n",
    "df_train_pos = df_train_all.loc[rows_pos]\n",
    "df_train_neg = df_train_all.loc[~rows_pos]\n",
    "\n",
    "# merge the balanced data\n",
    "df_train = pd.concat([df_train_pos, df_train_neg.sample(n = len(df_train_pos), random_state = 42)],axis = 0)\n",
    "\n",
    "# shuffle the order of training samples \n",
    "df_train = df_train.sample(n = len(df_train), random_state = 42).reset_index(drop = True)\n",
    "\n",
    "print('Train prevalence (n = %d):'%len(df_train), df_train.OUTPUT_LABEL.sum()/ len(df_train))"
   ]
  },
  {
   "cell_type": "code",
   "execution_count": 30,
   "metadata": {
    "collapsed": true
   },
   "outputs": [],
   "source": [
    "def preprocess_text(df):\n",
    "    df.TEXT = df.TEXT.fillna(' ')\n",
    "    df.TEXT = df.TEXT.str.replace('\\n',' ')\n",
    "    df.TEXT = df.TEXT.str.replace('\\r',' ')\n",
    "    return df"
   ]
  },
  {
   "cell_type": "code",
   "execution_count": 31,
   "metadata": {
    "collapsed": true
   },
   "outputs": [],
   "source": [
    "import nltk\n",
    "from nltk import word_tokenize\n",
    "import string"
   ]
  },
  {
   "cell_type": "code",
   "execution_count": 32,
   "metadata": {
    "collapsed": true
   },
   "outputs": [],
   "source": [
    "def tokenizer_better(text):\n",
    "    # tokenize the text by replacing punctuation and numbers with spaces and lowercase all words\n",
    "    \n",
    "    punc_list = string.punctuation+'0123456789'\n",
    "    t = str.maketrans(dict.fromkeys(punc_list, \" \"))\n",
    "    text = text.lower().translate(t)\n",
    "    tokens = word_tokenize(text)\n",
    "    return tokens"
   ]
  },
  {
   "cell_type": "code",
   "execution_count": 33,
   "metadata": {},
   "outputs": [
    {
     "name": "stdout",
     "output_type": "stream",
     "text": [
      "Preprocessing unstructured text ...\n",
      "Applying Tokenization, Punctuation Removal, Case Folding ...\n"
     ]
    }
   ],
   "source": [
    "import string\n",
    "print(\"Preprocessing unstructured text ...\")\n",
    "df_train = preprocess_text(df_train)\n",
    "df_valid = preprocess_text(df_valid)\n",
    "df_test = preprocess_text(df_test)\n",
    "print(\"Applying Tokenization, Punctuation Removal, Case Folding ...\")\n",
    "df_train.TEXT = [tokenizer_better(i) for i in df_train.TEXT]\n",
    "# df_valid.TEXT = [tokenizer_better(i) for i in df_valid.TEXT]\n",
    "# df_test.TEXT = [tokenizer_better(i) for i in df_test.TEXT]"
   ]
  },
  {
   "cell_type": "code",
   "execution_count": 58,
   "metadata": {},
   "outputs": [
    {
     "name": "stdout",
     "output_type": "stream",
     "text": [
      "Extracting Stopwords ...\n",
      "Stopwords :  ['the', 'and', 'to', 'of', 'was', 'with', 'a', 'on', 'mg', 'in', 'for', 'tablet', 'no', 'name', 'is', 'po', 'patient', 's', 'he', 'blood', 'at', 'daily', 'sig', 'as', 'or', 'she', 'hospital', 'discharge', 'one', 'day', 'his', 'last', 'left', 'history', 'her', 'am', 'were', 'you', 'right', 'not', 'by', 'pt', 'pm', 'had', 'be', 'your', 'this', 'pain', 'admission', 'date', 'q', 'from', 'that', 'p', 'an', 'there', 'first', 'c', 'normal', 'ct', 'are', 'have', 'h', 'has', 'but', 'o', 'namepattern', 'medications', 'which', 'times', 'up', 'hours', 'chest', 'd', 'x', 'please', 'needed', 'every', 'given', 'capsule', 'also', 'home', 'status', 'well', 'dr', 'time', 'ml', 'course', 'after', 'stable', 'follow', 'stitle', 'started', 'refills', 'hct', 'seen', 'l', 'release', 'days', 'un', 'two', 'disp', 'will', 'continued', 'disease', 'fax', 'care', 'once', 'telephone', 'negative', 'prior', 'known', 'wbc', 'per', 'r', 'service', 'any', 'md', 'instructions', 'valve']\n"
     ]
    },
    {
     "data": {
      "image/png": "[encoded data removed]",
      "text/plain": [
       "<matplotlib.figure.Figure at 0x7f2d6c745550>"
      ]
     },
     "metadata": {},
     "output_type": "display_data"
    }
   ],
   "source": [
    "import itertools\n",
    "from collections import Counter\n",
    "from matplotlib import cm\n",
    "words = Counter(i for i in list(itertools.chain.from_iterable(df_train.TEXT)))\n",
    "print(\"Extracting Stopwords ...\")\n",
    "top_words = words.most_common(120)\n",
    "stopwords,count = map(list,zip(*top_words))\n",
    "print(\"Stopwords : \",stopwords)\n",
    "\n",
    "circle = plt.Circle((0,0),0.5,color = \"white\")\n",
    "cs = cm.Set1(np.arange(25)/25.)\n",
    "plt.pie(count[:25],labels = stopwords[:25])\n",
    "p = plt.gcf()\n",
    "p.gca().add_artist(circle)\n",
    "plt.show()"
   ]
  },
  {
   "cell_type": "code",
   "execution_count": 54,
   "metadata": {},
   "outputs": [
    {
     "data": {
      "image/png": "[encoded data removed]",
      "text/plain": [
       "<matplotlib.figure.Figure at 0x7f2d6c9bbb00>"
      ]
     },
     "metadata": {},
     "output_type": "display_data"
    }
   ],
   "source": [
    "plt.barh(np.arange(len(stopwords[:25])), count[:25], align = \"center\", alpha = 0.7)\n",
    "plt.yticks(np.arange(len(stopwords[:25])), stopwords[:25])\n",
    "plt.xlabel('Count')\n",
    "plt.title('Frequency of stopwords')\n",
    "plt.show()"
   ]
  },
  {
   "cell_type": "code",
   "execution_count": 59,
   "metadata": {},
   "outputs": [
    {
     "data": {
      "image/png": "[encoded data removed]",
      "text/plain": [
       "<matplotlib.figure.Figure at 0x7f2d6cfba470>"
      ]
     },
     "metadata": {},
     "output_type": "display_data"
    }
   ],
   "source": [
    "from wordcloud import WordCloud, STOPWORDS, ImageColorGenerator\n",
    "for i in stopwords:\n",
    "    del words[i]\n",
    "wordcloud = WordCloud(stopwords = stopwords,background_color = \"white\")\n",
    "wordcloud.generate_from_frequencies(frequencies = words)\n",
    "plt.figure()\n",
    "plt.imshow(wordcloud, interpolation = \"bilinear\")\n",
    "plt.axis(\"off\")\n",
    "plt.show()"
   ]
  },
  {
   "cell_type": "code",
   "execution_count": 63,
   "metadata": {},
   "outputs": [
    {
     "name": "stdout",
     "output_type": "stream",
     "text": [
      "Data modelling ...\n"
     ]
    },
    {
     "data": {
      "text/plain": [
       "<4184x3000 sparse matrix of type '<class 'numpy.int64'>'\n",
       "\twith 1685411 stored elements in Compressed Sparse Row format>"
      ]
     },
     "execution_count": 63,
     "metadata": {},
     "output_type": "execute_result"
    }
   ],
   "source": [
    "print(\"Data modelling ...\")\n",
    "from sklearn.feature_extraction.text import CountVectorizer\n",
    "vect = CountVectorizer(max_features = 3000, tokenizer = tokenizer_better, stop_words = stopwords)\n",
    "\n",
    "df_train.TEXT = [' '.join(i) for i in df_train.TEXT]\n",
    "vect.fit(df_train.TEXT)"
   ]
  },
  {
   "cell_type": "code",
   "execution_count": 64,
   "metadata": {
    "collapsed": true
   },
   "outputs": [],
   "source": [
    "X_train_tf = vect.transform(df_train.TEXT)\n",
    "X_valid_tf = vect.transform(df_valid.TEXT)\n",
    "y_train = df_train.OUTPUT_LABEL\n",
    "y_valid = df_valid.OUTPUT_LABEL"
   ]
  },
  {
   "cell_type": "code",
   "execution_count": 65,
   "metadata": {},
   "outputs": [
    {
     "name": "stdout",
     "output_type": "stream",
     "text": [
      "Applying Logistic Regression ...\n",
      "[1 1 0 1 1 1 0 0 1 1]\n",
      "[ 0.47489291  0.43963902  0.31771487  0.63149892  0.25929424  0.50100486\n",
      "  0.41225272  0.7857094   0.71307271  0.51418313]\n"
     ]
    }
   ],
   "source": [
    "print(\"Applying Logistic Regression ...\")\n",
    "from sklearn.linear_model import LogisticRegression\n",
    "clf = LogisticRegression(C = 0.0001, penalty = 'l2', random_state = 42)\n",
    "clf.fit(X_train_tf, y_train)\n",
    "model = clf\n",
    "\n",
    "y_train_preds = model.predict_proba(X_train_tf)[:,1]\n",
    "y_valid_preds = model.predict_proba(X_valid_tf)[:,1]\n",
    "\n",
    "print(y_train[:10].values)\n",
    "print(y_train_preds[:10])"
   ]
  },
  {
   "cell_type": "code",
   "execution_count": null,
   "metadata": {
    "collapsed": true
   },
   "outputs": [],
   "source": []
  }
 ],
 "metadata": {
  "kernelspec": {
   "display_name": "Python 3",
   "language": "python",
   "name": "python3"
  },
  "language_info": {
   "codemirror_mode": {
    "name": "ipython",
    "version": 3
   },
   "file_extension": ".py",
   "mimetype": "text/x-python",
   "name": "python",
   "nbconvert_exporter": "python",
   "pygments_lexer": "ipython3",
   "version": "3.6.1"
  }
 },
 "nbformat": 4,
 "nbformat_minor": 2
}
